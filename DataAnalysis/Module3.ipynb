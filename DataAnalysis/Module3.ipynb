{
 "cells": [
  {
   "cell_type": "markdown",
   "metadata": {},
   "source": [
    "### Exploratory Data Analysis (EDA)\n",
    "* Preliminary step in data analysis to:\n",
    "    * Summarize main characteristics of the data\n",
    "    * Gain better understanding of the data set\n",
    "    * Uncover relationships between variables\n",
    "    * Extract important variables\n",
    "\n",
    "* Learnig Objectives\n",
    "    * Descriptive Statistics\n",
    "    * GroupBy\n",
    "    * ANOVA \n",
    "    * Correlation\n",
    "    * Correlation-Statistics\n",
    "    "
   ]
  },
  {
   "cell_type": "markdown",
   "metadata": {},
   "source": [
    "### Descriptive Statistics\n",
    "* Explore data before building complicated models\n",
    "* Calculate descriptive statistics for your data\n",
    "* Describe basic features of data\n",
    "* Giving short summaries about the sample and meansures of the data\n"
   ]
  },
  {
   "cell_type": "markdown",
   "metadata": {},
   "source": [
    "#### Descriptive Statistics: \n",
    "* Summarize statistics using pandas `describe()` method\n",
    "* Sumarize the categorical data is by uing the `value_counts()` methed\n",
    "    * `drive_wheels_counts = df[\"drive-wheels\"].value_counts()`\n",
    "    * `drive_wheels_counts.rename(colums={'drive-wheels':'value_counts', inplace=True})`\n",
    "    * `drive_wheels_counts.index.name= 'drive-wheels`\n",
    "* Box Plots: `sns.boxplot(x = \"drive-wheels), y = \"pice\", data= df)`\n",
    "* Scatter Plot\n",
    "    * Each observation represented as a point\n",
    "    * Scatter plots show the relationship between two variables:\n",
    "        1. Predictor/independent variables on x-axis\n",
    "        2. Target/dependent variables on y-axis\n",
    "    * `y = df[\"price\"]`\n",
    "    * `x = df[\"engine-size\"]`\n",
    "    * `plt.scatter(x,y)`"
   ]
  },
  {
   "cell_type": "markdown",
   "metadata": {},
   "source": []
  }
 ],
 "metadata": {
  "language_info": {
   "name": "python"
  }
 },
 "nbformat": 4,
 "nbformat_minor": 2
}
