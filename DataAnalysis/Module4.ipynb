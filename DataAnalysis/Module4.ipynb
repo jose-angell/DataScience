{
 "cells": [
  {
   "cell_type": "markdown",
   "metadata": {},
   "source": [
    "#### Model Deplopment\n",
    "* Learning Objectives\n",
    "    1. Simple and Multiples Linear Regression\n",
    "    2. Model Evaluation using Visualization\n",
    "    3. Polynomial Regression and Pipelines\n",
    "    4. R-squared and MSE for In-Sample Evaluation\n",
    "    5. Prediction and Decision Making\n",
    "* A model can be thounght of a mathematical equation used to predict a value given one or more other values\n",
    "* Relating one or more independent variables to dependent variables\n",
    "* Usually the more relevant data you have the more accurate your model is.\n"
   ]
  },
  {
   "cell_type": "markdown",
   "metadata": {},
   "source": [
    "### Linear Regression and Multiople Linear Regression\n",
    "* Linear regression will refer to one independent variable to make a prediction\n",
    "* Multiple Linear Regression will refer to multiple independent variables to make a prediction\n",
    "\n",
    "#### Simple linear regresssion  - SLR\n",
    "1. The predictor (independent) variable - x\n",
    "2. The target ( dependent ) variable  - y\n",
    "$$\n",
    "y = {b_0} + {b_1}x\n",
    "$$\n",
    "* where\n",
    "    * ${b_0}$ : the intercept\n",
    "    * ${b_1}$: the slope\n"
   ]
  },
  {
   "cell_type": "markdown",
   "metadata": {},
   "source": []
  },
  {
   "cell_type": "code",
   "execution_count": 23,
   "metadata": {},
   "outputs": [],
   "source": [
    "import pandas as pd\n",
    "import numpy as np\n",
    " \n",
    "url = \"https://archive.ics.uci.edu/ml/machine-learning-databases/autos/imports-85.data\"\n",
    "df = pd.read_csv(url, header=None)\n",
    "\n",
    "headers = [\"symboling\",\"normalized-losses\",\"make\",\"fuel-type\",\"aspiration\", \"num-of-doors\",\"body-style\",\n",
    "         \"drive-wheels\",\"engine-location\",\"wheel-base\", \"length\",\"width\",\"height\",\"curb-weight\",\"engine-type\",\n",
    "         \"num-of-cylinders\", \"engine-size\",\"fuel-system\",\"bore\",\"stroke\",\"compression-ratio\",\"horsepower\",\n",
    "         \"peak-rpm\",\"city-mpg\",\"highway-mpg\",\"price\"]\n",
    "df.columns = headers\n",
    "\n",
    "df1 = df.replace('?', np.nan)\n",
    "\n",
    "df = df1.dropna( axis=0)\n"
   ]
  },
  {
   "cell_type": "code",
   "execution_count": 24,
   "metadata": {},
   "outputs": [],
   "source": [
    "# Import linearr_model from scikit-learn\n",
    "from sklearn.linear_model import LinearRegression\n",
    "# Create a Linear Regression Object using the constructor\n",
    "lm = LinearRegression()\n",
    "# We define the predictor variable and target variable\n",
    "X = df[['highway-mpg']]\n",
    "Y = df['price']\n",
    "\n",
    "# Then use  lm.fit(X,Y) to fit the model, i.e find the paramenters b0 and b1\n",
    "lm.fit(X,Y)\n",
    "# we can obtain a prediction\n",
    "Yhat = lm.predict(X)"
   ]
  },
  {
   "cell_type": "code",
   "execution_count": 25,
   "metadata": {},
   "outputs": [
    {
     "name": "stdout",
     "output_type": "stream",
     "text": [
      "32468.309406002\n",
      "[-655.28135573]\n"
     ]
    }
   ],
   "source": [
    "# We can view the intercept (b0)\n",
    "print(lm.intercept_)\n",
    "# view the slope (b1)\n",
    "print(lm.coef_)\n",
    "# The Relationship between Price and Highway MPG is given by\n",
    "# Price = 38423.31  821.73 * highway-mpg\n"
   ]
  },
  {
   "cell_type": "markdown",
   "metadata": {},
   "source": [
    "###  Multiple Linear Regression (MLR)\n",
    "This method is used to explain the relationship between\n",
    "    * One continuous target (Y) variable\n",
    "    * Two or more predictor (X) variables\n",
    "    $$\n",
    "    Y = 1 + 2{x_1} + 3{x_2}\n",
    "    $$\n",
    "    * The variables ${x_1}$ and ${x_2}$ can be visualized adn a 2D plane."
   ]
  },
  {
   "cell_type": "code",
   "execution_count": 30,
   "metadata": {},
   "outputs": [],
   "source": [
    "# We can extract the for 4 predictor variables and store them in the variables Z\n",
    "Z = df[['horsepower', 'curb-weight', 'engine-size', 'highway-mpg']]\n",
    "# Then train the model as before\n",
    "#X = df[['horsepower', 'curb-weight', 'engine-size', 'highway-mpg']]\n",
    "lm.fit(Z, df['price'])\n",
    "\n",
    "# we can also obtain a prediction\n",
    "Yhat = lm.predict(Z)"
   ]
  },
  {
   "cell_type": "code",
   "execution_count": 31,
   "metadata": {},
   "outputs": [
    {
     "name": "stdout",
     "output_type": "stream",
     "text": [
      "-15469.047120325753\n",
      "[20.35983585  8.25411089 33.01845058 22.20517885]\n"
     ]
    }
   ],
   "source": [
    "# Find the intercet (b0)\n",
    "print(lm.intercept_)\n",
    "# Find the coefficints (b1,b2,b3,b4)\n",
    "print(lm.coef_)\n"
   ]
  },
  {
   "cell_type": "markdown",
   "metadata": {},
   "source": [
    "### Model Eveluation Using Visualization\n",
    "* Regression plot\n",
    "    * The relationship between two variables\n",
    "    * The strength of the correltion\n",
    "    * The direction of the relationship (positve or negative)\n",
    "    \n"
   ]
  },
  {
   "cell_type": "code",
   "execution_count": null,
   "metadata": {},
   "outputs": [],
   "source": [
    "import seaborn as sns\n",
    "import matplotlib as plt\n",
    "sns.regplot(x=\"highway-mpg\", y=\"price\", data=df)\n",
    "sns.residplot(df['highway-mpg'],df['price'])"
   ]
  },
  {
   "cell_type": "code",
   "execution_count": 35,
   "metadata": {},
   "outputs": [
    {
     "name": "stderr",
     "output_type": "stream",
     "text": [
      "C:\\Users\\joseg\\AppData\\Local\\Temp\\ipykernel_57068\\770318367.py:1: UserWarning: \n",
      "\n",
      "`distplot` is a deprecated function and will be removed in seaborn v0.14.0.\n",
      "\n",
      "Please adapt your code to use either `displot` (a figure-level function with\n",
      "similar flexibility) or `kdeplot` (an axes-level function for kernel density plots).\n",
      "\n",
      "For a guide to updating your code to use the new functions, please see\n",
      "https://gist.github.com/mwaskom/de44147ed2974457ad6372750bbe5751\n",
      "\n",
      "  ax1 = sns.distplot(df['price'], hist=False, color=\"r\", label=\"Actual Value\")\n",
      "C:\\Users\\joseg\\AppData\\Local\\Temp\\ipykernel_57068\\770318367.py:2: UserWarning: \n",
      "\n",
      "`distplot` is a deprecated function and will be removed in seaborn v0.14.0.\n",
      "\n",
      "Please adapt your code to use either `displot` (a figure-level function with\n",
      "similar flexibility) or `kdeplot` (an axes-level function for kernel density plots).\n",
      "\n",
      "For a guide to updating your code to use the new functions, please see\n",
      "https://gist.github.com/mwaskom/de44147ed2974457ad6372750bbe5751\n",
      "\n",
      "  sns.distplot(Yhat, hist=False, color=\"b\", label=\"Fitted Values\", ax=ax1)\n"
     ]
    },
    {
     "data": {
      "text/plain": [
       "<Axes: xlabel='price', ylabel='Density'>"
      ]
     },
     "execution_count": 35,
     "metadata": {},
     "output_type": "execute_result"
    },
    {
     "data": {
      "image/png": "[encoded data removed]",
      "text/plain": [
       "<Figure size 640x480 with 1 Axes>"
      ]
     },
     "metadata": {},
     "output_type": "display_data"
    }
   ],
   "source": [
    "ax1 = sns.distplot(df['price'], hist=False, color=\"r\", label=\"Actual Value\")\n",
    "sns.distplot(Yhat, hist=False, color=\"b\", label=\"Fitted Values\", ax=ax1)"
   ]
  },
  {
   "cell_type": "markdown",
   "metadata": {},
   "source": [
    "#### Polynomial Regression and Pipelines\n",
    "* A special case of the general linear regression model\n",
    "* Useful for describing curvilinear relationship\n",
    "* _curvilienar relationship_: By squaring or setting higher-order terms of the perdictor variables\n",
    "'"
   ]
  },
  {
   "cell_type": "code",
   "execution_count": null,
   "metadata": {},
   "outputs": [],
   "source": [
    "# Calculate polynomial of 3 order\n",
    "f = np.polyfit(X,Y,3)\n",
    "p = np.polyld(f)\n",
    "# we can print out the model\n",
    "print(p)"
   ]
  },
  {
   "cell_type": "markdown",
   "metadata": {},
   "source": [
    "We can also have multi dimentional polynomial linear regression\n",
    "* The \"preprocessing\" library in scikit-learn\n"
   ]
  },
  {
   "cell_type": "code",
   "execution_count": null,
   "metadata": {},
   "outputs": [],
   "source": [
    "from sklearn.preprocessing import PolynomialFeatures\n",
    "pr=PolynomialFeatures(degree=2, include_bias=False)\n",
    "#x_polly=pr.fit_transform(x[['horsepower', 'curb-weight']])"
   ]
  },
  {
   "cell_type": "markdown",
   "metadata": {},
   "source": [
    "### Measures for In-Sample Evaluation\n",
    "* A way to numerically determine how good the model fits on dataset.\n",
    "* Two important measures to determine the fit of a model\n",
    "    * Mean Squared Error (MSE)\n",
    "    * R-squareed (R^2)\n",
    "        * The Coefficient of Determination or R squared (R^2)\n",
    "        * Is a measure to determine how close the data is to the fitted regression line\n",
    "        * R^2: the percentage of variation of the target variable (Y) that is explained by the liear model.\n",
    "        "
   ]
  },
  {
   "cell_type": "markdown",
   "metadata": {},
   "source": [
    "#### Decision making: Determining a good model fit\n",
    "To determine final best fit\n",
    "* Do the predicted values make sense\n",
    "* Visualization\n",
    "* Numerical measures for evaluation\n",
    "* Comparieng models\n"
   ]
  },
  {
   "cell_type": "code",
   "execution_count": null,
   "metadata": {},
   "outputs": [],
   "source": [
    "# First we train the model \n",
    "lm.fit(df['highway-mpg'], df['prices'])\n",
    "# Let's predict the price of a car with 30 highway-mpg\n",
    "lm.predict(np.array(30.0).reshape(-1,1))"
   ]
  },
  {
   "cell_type": "code",
   "execution_count": null,
   "metadata": {},
   "outputs": [],
   "source": []
  }
 ],
 "metadata": {
  "kernelspec": {
   "display_name": "Python 3",
   "language": "python",
   "name": "python3"
  },
  "language_info": {
   "codemirror_mode": {
    "name": "ipython",
    "version": 3
   },
   "file_extension": ".py",
   "mimetype": "text/x-python",
   "name": "python",
   "nbconvert_exporter": "python",
   "pygments_lexer": "ipython3",
   "version": "3.12.2"
  }
 },
 "nbformat": 4,
 "nbformat_minor": 2
}
