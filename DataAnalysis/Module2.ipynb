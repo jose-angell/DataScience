{
 "cells": [
  {
   "cell_type": "markdown",
   "metadata": {},
   "source": [
    "### Pre-processing Data in python\n",
    "\n",
    "* The process of converting or mapping data from the initial \"raw\" form into another format, in order to prepare the data for \n",
    "further analysis\n",
    "* Also as known as:\n",
    "    * Dada Cleaning, Data Wrangling"
   ]
  },
  {
   "cell_type": "markdown",
   "metadata": {},
   "source": [
    "* access the value using the column name\n",
    "    * `df[\"symboling\"]`\n",
    "* assign value\n",
    "    \n",
    "    * `df[\"symboling\"] = df[\"symboling\"] + 1` "
   ]
  },
  {
   "cell_type": "code",
   "execution_count": 28,
   "metadata": {},
   "outputs": [
    {
     "data": {
      "text/html": [
       "<div>\n",
       "<style scoped>\n",
       "    .dataframe tbody tr th:only-of-type {\n",
       "        vertical-align: middle;\n",
       "    }\n",
       "\n",
       "    .dataframe tbody tr th {\n",
       "        vertical-align: top;\n",
       "    }\n",
       "\n",
       "    .dataframe thead th {\n",
       "        text-align: right;\n",
       "    }\n",
       "</style>\n",
       "<table border=\"1\" class=\"dataframe\">\n",
       "  <thead>\n",
       "    <tr style=\"text-align: right;\">\n",
       "      <th></th>\n",
       "      <th>symboling</th>\n",
       "      <th>normalized-losses</th>\n",
       "      <th>make</th>\n",
       "      <th>fuel-type</th>\n",
       "      <th>aspiration</th>\n",
       "      <th>num-of-doors</th>\n",
       "      <th>body-style</th>\n",
       "      <th>drive-wheels</th>\n",
       "      <th>engine-location</th>\n",
       "      <th>wheel-base</th>\n",
       "      <th>...</th>\n",
       "      <th>engine-size</th>\n",
       "      <th>fuel-system</th>\n",
       "      <th>bore</th>\n",
       "      <th>stroke</th>\n",
       "      <th>compression-ratio</th>\n",
       "      <th>horsepower</th>\n",
       "      <th>peak-rpm</th>\n",
       "      <th>city-mpg</th>\n",
       "      <th>highway-mpg</th>\n",
       "      <th>price</th>\n",
       "    </tr>\n",
       "  </thead>\n",
       "  <tbody>\n",
       "    <tr>\n",
       "      <th>0</th>\n",
       "      <td>3</td>\n",
       "      <td>?</td>\n",
       "      <td>alfa-romero</td>\n",
       "      <td>gas</td>\n",
       "      <td>std</td>\n",
       "      <td>two</td>\n",
       "      <td>convertible</td>\n",
       "      <td>rwd</td>\n",
       "      <td>front</td>\n",
       "      <td>88.6</td>\n",
       "      <td>...</td>\n",
       "      <td>130</td>\n",
       "      <td>mpfi</td>\n",
       "      <td>3.47</td>\n",
       "      <td>2.68</td>\n",
       "      <td>9.0</td>\n",
       "      <td>111</td>\n",
       "      <td>5000</td>\n",
       "      <td>21</td>\n",
       "      <td>27</td>\n",
       "      <td>13495</td>\n",
       "    </tr>\n",
       "    <tr>\n",
       "      <th>1</th>\n",
       "      <td>3</td>\n",
       "      <td>?</td>\n",
       "      <td>alfa-romero</td>\n",
       "      <td>gas</td>\n",
       "      <td>std</td>\n",
       "      <td>two</td>\n",
       "      <td>convertible</td>\n",
       "      <td>rwd</td>\n",
       "      <td>front</td>\n",
       "      <td>88.6</td>\n",
       "      <td>...</td>\n",
       "      <td>130</td>\n",
       "      <td>mpfi</td>\n",
       "      <td>3.47</td>\n",
       "      <td>2.68</td>\n",
       "      <td>9.0</td>\n",
       "      <td>111</td>\n",
       "      <td>5000</td>\n",
       "      <td>21</td>\n",
       "      <td>27</td>\n",
       "      <td>16500</td>\n",
       "    </tr>\n",
       "    <tr>\n",
       "      <th>2</th>\n",
       "      <td>1</td>\n",
       "      <td>?</td>\n",
       "      <td>alfa-romero</td>\n",
       "      <td>gas</td>\n",
       "      <td>std</td>\n",
       "      <td>two</td>\n",
       "      <td>hatchback</td>\n",
       "      <td>rwd</td>\n",
       "      <td>front</td>\n",
       "      <td>94.5</td>\n",
       "      <td>...</td>\n",
       "      <td>152</td>\n",
       "      <td>mpfi</td>\n",
       "      <td>2.68</td>\n",
       "      <td>3.47</td>\n",
       "      <td>9.0</td>\n",
       "      <td>154</td>\n",
       "      <td>5000</td>\n",
       "      <td>19</td>\n",
       "      <td>26</td>\n",
       "      <td>16500</td>\n",
       "    </tr>\n",
       "    <tr>\n",
       "      <th>3</th>\n",
       "      <td>2</td>\n",
       "      <td>164</td>\n",
       "      <td>audi</td>\n",
       "      <td>gas</td>\n",
       "      <td>std</td>\n",
       "      <td>four</td>\n",
       "      <td>sedan</td>\n",
       "      <td>fwd</td>\n",
       "      <td>front</td>\n",
       "      <td>99.8</td>\n",
       "      <td>...</td>\n",
       "      <td>109</td>\n",
       "      <td>mpfi</td>\n",
       "      <td>3.19</td>\n",
       "      <td>3.40</td>\n",
       "      <td>10.0</td>\n",
       "      <td>102</td>\n",
       "      <td>5500</td>\n",
       "      <td>24</td>\n",
       "      <td>30</td>\n",
       "      <td>13950</td>\n",
       "    </tr>\n",
       "    <tr>\n",
       "      <th>4</th>\n",
       "      <td>2</td>\n",
       "      <td>164</td>\n",
       "      <td>audi</td>\n",
       "      <td>gas</td>\n",
       "      <td>std</td>\n",
       "      <td>four</td>\n",
       "      <td>sedan</td>\n",
       "      <td>4wd</td>\n",
       "      <td>front</td>\n",
       "      <td>99.4</td>\n",
       "      <td>...</td>\n",
       "      <td>136</td>\n",
       "      <td>mpfi</td>\n",
       "      <td>3.19</td>\n",
       "      <td>3.40</td>\n",
       "      <td>8.0</td>\n",
       "      <td>115</td>\n",
       "      <td>5500</td>\n",
       "      <td>18</td>\n",
       "      <td>22</td>\n",
       "      <td>17450</td>\n",
       "    </tr>\n",
       "  </tbody>\n",
       "</table>\n",
       "<p>5 rows × 26 columns</p>\n",
       "</div>"
      ],
      "text/plain": [
       "   symboling normalized-losses         make fuel-type aspiration num-of-doors  \\\n",
       "0          3                 ?  alfa-romero       gas        std          two   \n",
       "1          3                 ?  alfa-romero       gas        std          two   \n",
       "2          1                 ?  alfa-romero       gas        std          two   \n",
       "3          2               164         audi       gas        std         four   \n",
       "4          2               164         audi       gas        std         four   \n",
       "\n",
       "    body-style drive-wheels engine-location  wheel-base  ...  engine-size  \\\n",
       "0  convertible          rwd           front        88.6  ...          130   \n",
       "1  convertible          rwd           front        88.6  ...          130   \n",
       "2    hatchback          rwd           front        94.5  ...          152   \n",
       "3        sedan          fwd           front        99.8  ...          109   \n",
       "4        sedan          4wd           front        99.4  ...          136   \n",
       "\n",
       "   fuel-system  bore  stroke compression-ratio horsepower  peak-rpm city-mpg  \\\n",
       "0         mpfi  3.47    2.68               9.0        111      5000       21   \n",
       "1         mpfi  3.47    2.68               9.0        111      5000       21   \n",
       "2         mpfi  2.68    3.47               9.0        154      5000       19   \n",
       "3         mpfi  3.19    3.40              10.0        102      5500       24   \n",
       "4         mpfi  3.19    3.40               8.0        115      5500       18   \n",
       "\n",
       "  highway-mpg  price  \n",
       "0          27  13495  \n",
       "1          27  16500  \n",
       "2          26  16500  \n",
       "3          30  13950  \n",
       "4          22  17450  \n",
       "\n",
       "[5 rows x 26 columns]"
      ]
     },
     "execution_count": 28,
     "metadata": {},
     "output_type": "execute_result"
    }
   ],
   "source": [
    "import pandas as pd\n",
    "url = \"https://archive.ics.uci.edu/ml/machine-learning-databases/autos/imports-85.data\"\n",
    "\n",
    "df = pd.read_csv(url, header = None)\n",
    "headers = [\"symboling\", \"normalized-losses\", \"make\", \"fuel-type\",\"aspiration\", \"num-of-doors\", \"body-style\", \"drive-wheels\", \"engine-location\", \"wheel-base\", \n",
    "           \"length\", \"width\",\" height\",\"curb-weight\",\"engine-type\",\"num-of-cylinders\", \"engine-size\",\"fuel-system\",\"bore\",\"stroke\",\"compression-ratio\",\"horsepower\", \n",
    "           \"peak-rpm\",\"city-mpg\",\"highway-mpg\",\"price\"]\n",
    "df.columns = headers\n",
    "df.head(5)"
   ]
  },
  {
   "cell_type": "markdown",
   "metadata": {},
   "source": [
    "#### Missing values\n",
    "* Missing values occur when no data value is stored for a variable (feature) in an observation.\n",
    "* Could be represented as \"?\", \"N/A\", 0 or just a blank cell.\n",
    "\n",
    "#### How to deal with missing data\n",
    "* Check with the data collection source\n",
    "* Drop the missing values\n",
    "    * drop the variable\n",
    "    * drop the data entry\n",
    "* Replace the missing values\n",
    "    * replace it with an average (of similar datapoints)\n",
    "    * replace it by frequency\n",
    "    * replace it based on other functions\n",
    "* Leave it as missing data\n",
    "    "
   ]
  },
  {
   "cell_type": "markdown",
   "metadata": {},
   "source": [
    "#### how to drop missing values in python\n",
    "* use dataframes.dropna()\n",
    "    * axis = 0 drops the entire row\n",
    "    * axis = 1 drops the entire column\n",
    "* inplace: writes the result back to the data frame\n",
    "\n",
    "`df.dropna(subset=[\"price\"], axis=0, inplace = True)` is aqual to  `df = df.dropna(subset=[\"price\"], axis=0)`"
   ]
  },
  {
   "cell_type": "code",
   "execution_count": 29,
   "metadata": {},
   "outputs": [],
   "source": [
    "df.dropna(subset=[\"price\"], axis=0, inplace = True)"
   ]
  },
  {
   "cell_type": "markdown",
   "metadata": {},
   "source": [
    "#### How to replace missing values in Python\n",
    "* Use `dataframe.replace(missing_valu, new_value)`\n"
   ]
  },
  {
   "cell_type": "code",
   "execution_count": 30,
   "metadata": {},
   "outputs": [
    {
     "data": {
      "text/plain": [
       "0      122.0\n",
       "1      122.0\n",
       "2      122.0\n",
       "3      164.0\n",
       "4      164.0\n",
       "       ...  \n",
       "200     95.0\n",
       "201     95.0\n",
       "202     95.0\n",
       "203     95.0\n",
       "204     95.0\n",
       "Name: normalized-losses, Length: 205, dtype: float64"
      ]
     },
     "execution_count": 30,
     "metadata": {},
     "output_type": "execute_result"
    }
   ],
   "source": [
    "import numpy as np\n",
    "#convert non-numeric values ​​to NaN\n",
    "df[\"normalized-losses\"] = pd.to_numeric( df[\"normalized-losses\"], errors='coerce')\n",
    "# First we calculate the mean of the column\n",
    "mean = df[\"normalized-losses\"].mean()\n",
    "df[\"normalized-losses\"].replace(np.nan, mean)"
   ]
  },
  {
   "cell_type": "markdown",
   "metadata": {},
   "source": [
    "####  Data Formatting\n",
    "    * Data is usually collected from different places and stored in different formats\n",
    "    * Bringing data into a common standard of expression allows users to make meaningful comparison\n",
    "    "
   ]
  },
  {
   "cell_type": "code",
   "execution_count": 31,
   "metadata": {},
   "outputs": [],
   "source": [
    "df[\"city-mpg\"] = 235/df[\"city-mpg\"]\n",
    "df.rename(columns={\"city_mpg\": \"city-L/100km\"}, inplace=True)"
   ]
  },
  {
   "cell_type": "markdown",
   "metadata": {},
   "source": [
    "#### Incorrect data types\n",
    "* Sometimes the wrong data type is assigned to a feature\n",
    "#### Data types in Python and Pandas\n",
    "* There are many data types in Pandas\n",
    "* Objects: \"A\", \"Hello\"\n",
    "* Int64: 1,2,3\n",
    "* Float64: 1.2422,6.3432\n"
   ]
  },
  {
   "cell_type": "markdown",
   "metadata": {},
   "source": [
    "##### Correction data types\n",
    "To identify data types:\n",
    "    * Use `dataframe.dtypes()` to identify data type\n",
    "\n",
    "To convert data types:\n",
    "    * Use `dataframe.astype()` to convert data type"
   ]
  },
  {
   "cell_type": "code",
   "execution_count": 35,
   "metadata": {},
   "outputs": [],
   "source": [
    "df = df[df['price'] != '?']\n",
    "# Example: Convert data type to integer in column \"price\"\n",
    "df[\"price\"] = df[\"price\"].astype(\"int\")"
   ]
  },
  {
   "cell_type": "markdown",
   "metadata": {},
   "source": [
    "#### Data  Normalization\n",
    "* Uniform the features value with different range.\n",
    "#### Methods of normalizing data\n",
    "* Several approaches for normalization:\n",
    "    * Simple Feature Scaling\n",
    "        $$x_{new} = \\frac{x_{old}}{x_{max}}$$\n",
    "             \n",
    "    * Min-Max\n",
    "        $$x_{new} = \\frac{x_{old}-x_{min}}{x_{max}-x_{min}}$$\n",
    "    \n",
    "    * Z-score\n",
    "        $$x_{\\text{new}} = \\frac{x_{\\text{old}} - \\mu}{\\sigma}$$\n",
    "        * $\\mu$ : It is the average of the feature\n",
    "        * $\\sigma$: standard deviation\n",
    "\n",
    "#### With Pandas\n",
    "* Simple feature scaling\n",
    "    * First, we use the simple entity scaling method where we divide it by the maximum value of the entity, using pandas `max()` method\n",
    "    * `df[\"length\"] = df[\"length\"]/df[\"length\"].max()`\n",
    "* Min-max\n",
    "    * `df[\"length\"] = (df[\"length\"]-df[\"length\"].min())/(df[\"length\"].max()-df[\"length\"].min())`\n",
    "* Z-score\n",
    "    * `df[\"length\"] = (df[\"length\"]-df[\"length\"].mean())/df[\"length\"].std()`\n",
    "    * std() return standard deviation\n",
    "    * mean return average of the feature"
   ]
  },
  {
   "cell_type": "code",
   "execution_count": null,
   "metadata": {},
   "outputs": [],
   "source": [
    "df[\"length\"] = df[\"length\"]/df[\"length\"].max()"
   ]
  },
  {
   "cell_type": "markdown",
   "metadata": {},
   "source": [
    "#### Binning\n",
    "* Data preprocessing method. Clustering involves grouping values ​​into groups.\n",
    "* Binning: Grouping of values into bins\n",
    "* Converts numeric into categorical variables\n",
    "* Group a set of numerical values into set of \"bins\""
   ]
  },
  {
   "cell_type": "code",
   "execution_count": 37,
   "metadata": {},
   "outputs": [],
   "source": [
    "bins = np.linspace(min(df[\"price\"]), max(df[\"price\"]), 4)\n",
    "group_names = [\"Low\", \"Medium\", \"High\"]\n",
    "df[\"price-binned\"] = pd.cut(df[\"price\"], bins, labels=group_names, include_lowest=True)"
   ]
  },
  {
   "cell_type": "markdown",
   "metadata": {},
   "source": [
    "#### How to turn categorical variables into quatitative variables in python\n",
    "Problem:\n",
    "    * Most statistical models cannot take in the objects/strings as inpt\n",
    "##### Dummy variables in python pandas\n",
    "* Use  `pandas.get_dummies()` methond.\n",
    "* Convert categorical variables to dummy variables (0 or 1)\n",
    "\n",
    "Example:\n",
    "    * `pd.get_dummies(df['fuel])`"
   ]
  }
 ],
 "metadata": {
  "kernelspec": {
   "display_name": "Python 3",
   "language": "python",
   "name": "python3"
  },
  "language_info": {
   "codemirror_mode": {
    "name": "ipython",
    "version": 3
   },
   "file_extension": ".py",
   "mimetype": "text/x-python",
   "name": "python",
   "nbconvert_exporter": "python",
   "pygments_lexer": "ipython3",
   "version": "3.12.2"
  }
 },
 "nbformat": 4,
 "nbformat_minor": 2
}
