{
 "cells": [
  {
   "cell_type": "markdown",
   "metadata": {},
   "source": [
    "### Pre-procesamiento de datos (Pre-processing data)\n",
    "Tambien conocido como  Data Cleaning o Data Cleansing.\n",
    "\n",
    "Este proceso involucra detectar, eliminar, corregir o transformar cualquier anomalia, perturbacion o irrelevancia en los datos.\n"
   ]
  },
  {
   "cell_type": "markdown",
   "metadata": {},
   "source": [
    "## Arreglos\n",
    "Para el manejo de datos cuantitativos Python cuenta con una estructura llamada `array` que está disponible en el paquete `NumPy`.  \n",
    "\n",
    "Un array o arreglo se entiende como una matriz de elementos organizados en filas y columnas. "
   ]
  },
  {
   "cell_type": "markdown",
   "metadata": {},
   "source": [
    "### Crear una matriz NumPy\n",
    "\n",
    "La forma más sencilla de crear un arreglo en Numpy es usar listas. Puedes convertir una lista de Python en un arreglo de numpy utilizando el objeto `np.array`.\n",
    "\n",
    "Antes de hacerlo, debes importar el paquete usando la expresión `import`:\n",
    "\n",
    ">import numpy as np"
   ]
  },
  {
   "cell_type": "code",
   "execution_count": null,
   "metadata": {},
   "outputs": [],
   "source": []
  },
  {
   "cell_type": "markdown",
   "metadata": {},
   "source": [
    "## "
   ]
  }
 ],
 "metadata": {
  "language_info": {
   "name": "python"
  }
 },
 "nbformat": 4,
 "nbformat_minor": 2
}
