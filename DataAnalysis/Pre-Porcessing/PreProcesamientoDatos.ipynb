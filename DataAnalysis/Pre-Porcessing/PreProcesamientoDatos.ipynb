{
 "cells": [
  {
   "cell_type": "markdown",
   "metadata": {},
   "source": [
    "### Pre-procesamiento de datos (Pre-processing data)\n",
    "Tambien conocido como  Data Cleaning o Data Cleansing.\n",
    "\n",
    "Este proceso involucra detectar, eliminar, corregir o transformar cualquier anomalia, perturbacion o irrelevancia en los datos.\n"
   ]
  },
  {
   "cell_type": "markdown",
   "metadata": {},
   "source": [
    "## Arreglos\n",
    "Para el manejo de datos cuantitativos Python cuenta con una estructura llamada `array` que está disponible en el paquete `NumPy`.  \n",
    "\n",
    "Un array o arreglo se entiende como una matriz de elementos organizados en filas y columnas. "
   ]
  },
  {
   "cell_type": "markdown",
   "metadata": {},
   "source": [
    "### Crear una matriz NumPy\n",
    "\n",
    "La forma más sencilla de crear un arreglo en Numpy es usar listas. Puedes convertir una lista de Python en un arreglo de numpy utilizando el objeto `np.array`.\n",
    "\n",
    "Antes de hacerlo, debes importar el paquete usando la expresión `import`:\n",
    "\n",
    ">import numpy as np"
   ]
  },
  {
   "cell_type": "code",
   "execution_count": 1,
   "metadata": {},
   "outputs": [
    {
     "name": "stdout",
     "output_type": "stream",
     "text": [
      "[1 5 3 2]\n",
      "<class 'list'>\n",
      "<class 'numpy.ndarray'>\n"
     ]
    }
   ],
   "source": [
    "import numpy as np\n",
    "myList = [1,5,3,2]\n",
    "numpy_array_from_list = np.array(myList)\n",
    "print(numpy_array_from_list)\n",
    "print(type(myList))\n",
    "print(type(numpy_array_from_list))"
   ]
  },
  {
   "cell_type": "markdown",
   "metadata": {},
   "source": [
    "## "
   ]
  },
  {
   "cell_type": "markdown",
   "metadata": {},
   "source": [
    "### operaciones matematicas en un arreglo\n",
    "\n",
    "Se puede realizar operaciones matematicas como sumas, restas, divisiones y multiplicaciones en un arreglo. La sintaxis es el nombre de la matriz seguido de la operacion (+, -, *, /) seguidas del operado"
   ]
  },
  {
   "cell_type": "code",
   "execution_count": 2,
   "metadata": {},
   "outputs": [
    {
     "data": {
      "text/plain": [
       "array([101, 105, 103, 102])"
      ]
     },
     "execution_count": 2,
     "metadata": {},
     "output_type": "execute_result"
    }
   ],
   "source": [
    "numpy_array_from_list + 100"
   ]
  },
  {
   "cell_type": "markdown",
   "metadata": {},
   "source": [
    "### Forma del arraglo\n",
    "Puedes comprobar la forma del arreglo llamado al objeto `shape` precedido por el nombre del arreglo. De la misma mnera, puedes verificar su tipo con dtypes.\n",
    "\n",
    "El tipo indicado al usar el metodo `dtype` esta dado por los datos dentro de la matriz, si todos son enteros la repuesta sera int64 pero con solo uno que sea float por ejemplo el tipo de dato de la matriz sera float64, el codigo del tipo cambia tomando en cuenta todos los tipos."
   ]
  },
  {
   "cell_type": "code",
   "execution_count": 7,
   "metadata": {},
   "outputs": [
    {
     "name": "stdout",
     "output_type": "stream",
     "text": [
      "['1' '2' '3' '1.33' '?']\n",
      "(5,)\n",
      "<U32\n"
     ]
    }
   ],
   "source": [
    "a = np.array([1,2,3,1.33,\"?\"])\n",
    "print(a)\n",
    "print(a.shape)\n",
    "print(a.dtype)"
   ]
  },
  {
   "cell_type": "code",
   "execution_count": 8,
   "metadata": {},
   "outputs": [
    {
     "name": "stdout",
     "output_type": "stream",
     "text": [
      "[[ 1  2  3]\n",
      " [10 11 12]]\n",
      "(2, 3)\n"
     ]
    }
   ],
   "source": [
    "d = np.array([[1,2,3],[10,11,12]])\n",
    "print(d)\n",
    "print(d.shape)"
   ]
  },
  {
   "cell_type": "markdown",
   "metadata": {},
   "source": [
    "### np.zeros y np.ones\n",
    "Puedes crear un arreglo lleno de ceros o unos usando los comandos np.zeros y np.ones respectivamente."
   ]
  },
  {
   "cell_type": "code",
   "execution_count": 10,
   "metadata": {},
   "outputs": [
    {
     "name": "stdout",
     "output_type": "stream",
     "text": [
      "[[1. 1. 1.]\n",
      " [1. 1. 1.]]\n",
      "[[0. 0. 0. 0.]\n",
      " [0. 0. 0. 0.]\n",
      " [0. 0. 0. 0.]]\n"
     ]
    }
   ],
   "source": [
    "# unos\n",
    "A = np.ones((2,3))\n",
    "print(A)\n",
    "# ceros\n",
    "B = np.zeros((3,4))\n",
    "print(B)"
   ]
  },
  {
   "cell_type": "markdown",
   "metadata": {},
   "source": [
    "### Cambiar la forma de los datos\n",
    "El algunos ocasiones, es necesario cambiar la forma de los datos de ancho a largo. Puedes utilizar la funcion `reshape` para esto:"
   ]
  },
  {
   "cell_type": "code",
   "execution_count": 11,
   "metadata": {},
   "outputs": [
    {
     "name": "stdout",
     "output_type": "stream",
     "text": [
      "[[1 2 3]\n",
      " [4 5 6]]\n"
     ]
    },
    {
     "data": {
      "text/plain": [
       "array([[1, 2],\n",
       "       [3, 4],\n",
       "       [5, 6]])"
      ]
     },
     "execution_count": 11,
     "metadata": {},
     "output_type": "execute_result"
    }
   ],
   "source": [
    "e = np.array([(1,2,3),(4,5,6)])\n",
    "print(e)\n",
    "e.reshape(3,2)"
   ]
  },
  {
   "cell_type": "markdown",
   "metadata": {},
   "source": [
    "### Extraer informacion de arreglos es basicamente igual que en las listas\n",
    "Al tratar con mas de una dimension, se debe considerar un indice para cada dimension\n"
   ]
  },
  {
   "cell_type": "code",
   "execution_count": 15,
   "metadata": {},
   "outputs": [
    {
     "name": "stdout",
     "output_type": "stream",
     "text": [
      "matris completa \n",
      "[[1 2 3]\n",
      " [4 5 6]]\n",
      "elementos\n",
      "[1 2 3]\n",
      "[4 5 6]\n"
     ]
    }
   ],
   "source": [
    "print(\"matris completa \")\n",
    "print(e)\n",
    "print(\"elementos\")\n",
    "print(e[0])\n",
    "print(e[1])"
   ]
  },
  {
   "cell_type": "code",
   "execution_count": 16,
   "metadata": {},
   "outputs": [
    {
     "name": "stdout",
     "output_type": "stream",
     "text": [
      "matris completa \n",
      "[[1 2 3]\n",
      " [4 5 6]]\n",
      "elementos\n",
      "[1 4]\n",
      "[2 5]\n",
      "[3 6]\n"
     ]
    }
   ],
   "source": [
    "print(\"matris completa \")\n",
    "print(e)\n",
    "print(\"elementos\")\n",
    "print(e[:, 0])\n",
    "print(e[:, 1])\n",
    "print(e[:, 2])"
   ]
  },
  {
   "cell_type": "code",
   "execution_count": 17,
   "metadata": {},
   "outputs": [
    {
     "name": "stdout",
     "output_type": "stream",
     "text": [
      "matris completa \n",
      "[[1 2 3]\n",
      " [4 5 6]]\n",
      "elementos\n",
      "1\n",
      "2\n",
      "5\n"
     ]
    }
   ],
   "source": [
    "print(\"matris completa \")\n",
    "print(e)\n",
    "print(\"elementos\")\n",
    "print(e[0,0])\n",
    "print(e[0,1])\n",
    "print(e[1,1])"
   ]
  },
  {
   "cell_type": "markdown",
   "metadata": {},
   "source": [
    "La diferencia clave entre un arreglo y una lista es que los arreglos estan diseñados para mejar opearciones vectoriales, mientras que una lista de Python no lo esta.\n",
    "\n",
    "Esto significa que si aplicas una funcion, se realiza en cada elemento del arreglo, en luga de en todo el objeto de la matriz.\n"
   ]
  },
  {
   "cell_type": "code",
   "execution_count": 18,
   "metadata": {},
   "outputs": [
    {
     "name": "stdout",
     "output_type": "stream",
     "text": [
      "[[3 4 5]\n",
      " [6 7 8]]\n"
     ]
    }
   ],
   "source": [
    "# e es un arreglo definido previamente\n",
    "D = e + 2\n",
    "print(D)\n",
    "  "
   ]
  },
  {
   "cell_type": "code",
   "execution_count": 19,
   "metadata": {},
   "outputs": [],
   "source": [
    "# odd es una lista\n",
    "dd = [1,3,5]\n",
    "# odd + 2 esta operacion genera un error"
   ]
  },
  {
   "cell_type": "markdown",
   "metadata": {},
   "source": [
    "## Dataframe\n",
    "\n",
    "Que son los DataFrames de Pandas?\n",
    "\n",
    "Los DataFrames son una forma de almacenar datos en cuadriculas rectangulares que pueden visualizarse facilmente. Cada fila de estas cuadriculas corresponde a medidas o valores de una instancia, mientras que cada columna es un vector que contiene datos para una variable especifica.\n",
    "\n",
    "Se trata de un set de dtatos organizado en forma tabular, esto significa que las filas de DataFrame no necesitn contener, pero pueden contener, el mismo tipo de valores: pueden ser numericos, de caracteres, logicos, etc."
   ]
  },
  {
   "cell_type": "code",
   "execution_count": 6,
   "metadata": {},
   "outputs": [
    {
     "name": "stdout",
     "output_type": "stream",
     "text": [
      "         Col1  Col2\n",
      "Primero     1     2\n",
      "Segundo     3     4\n"
     ]
    }
   ],
   "source": [
    "import pandas as pd\n",
    "import numpy as np\n",
    "data = np.array([[1,2],[3,4]])\n",
    "col = [\"Col1\", \"Col2\"]\n",
    "idx = [\"Primero\",\"Segundo\"]\n",
    "df = pd.DataFrame(data=data, columns=col, index=idx)\n",
    "print(df)"
   ]
  },
  {
   "cell_type": "markdown",
   "metadata": {},
   "source": [
    "## Operaciones fundamentales de DataFrame\n",
    "Operaciones basicas en un DataFrame: agregar, seleccionar, elminar, renombrar, etc"
   ]
  },
  {
   "cell_type": "code",
   "execution_count": 7,
   "metadata": {},
   "outputs": [
    {
     "name": "stdout",
     "output_type": "stream",
     "text": [
      "usando iloc 1\n",
      "usando loc 2\n",
      "usando at:  2\n",
      "Usando iat 1\n"
     ]
    },
    {
     "name": "stderr",
     "output_type": "stream",
     "text": [
      "C:\\Users\\joseg\\AppData\\Local\\Temp\\ipykernel_82868\\3627037907.py:2: FutureWarning: Series.__getitem__ treating keys as positions is deprecated. In a future version, integer keys will always be treated as labels (consistent with DataFrame behavior). To access a value by position, use `ser.iloc[pos]`\n",
      "  print(\"usando iloc\", df.iloc[0][0])\n"
     ]
    }
   ],
   "source": [
    "# Using iloc[]\n",
    "print(\"usando iloc\", df.iloc[0][0])\n",
    "#usando loc[]\n",
    "print(\"usando loc\", df.loc[\"Primero\"][\"Col2\"])\n",
    "# Using at[]\n",
    "print(\"usando at: \", df.at[\"Primero\",\"Col2\"])\n",
    "# using iat[]\n",
    "print(\"Usando iat\", df.iat[0,0])"
   ]
  },
  {
   "cell_type": "code",
   "execution_count": 8,
   "metadata": {},
   "outputs": [
    {
     "name": "stdout",
     "output_type": "stream",
     "text": [
      "Primero    1\n",
      "Segundo    3\n",
      "Name: Col1, dtype: int64\n",
      "Primero    2\n",
      "Segundo    4\n",
      "Name: Col2, dtype: int64\n"
     ]
    }
   ],
   "source": [
    "# The most common for columns\n",
    "print(df[\"Col1\"])\n",
    "print(df[\"Col2\"])"
   ]
  },
  {
   "cell_type": "code",
   "execution_count": 9,
   "metadata": {},
   "outputs": [
    {
     "name": "stdout",
     "output_type": "stream",
     "text": [
      "estos son los valores [[1 2]\n",
      " [3 4]]\n",
      "estos son los valores de las columnas ['Col1' 'Col2']\n",
      "estos son los valores de los indices  ['Primero' 'Segundo']\n"
     ]
    }
   ],
   "source": [
    "# get values\n",
    "vals = df.values\n",
    "print(\"estos son los valores\", vals)\n",
    "# get columns\n",
    "cls = df.columns.values\n",
    "print(\"estos son los valores de las columnas\", cls)\n",
    "# get columns\n",
    "idx = df.index.values\n",
    "print(\"estos son los valores de los indices \", idx)"
   ]
  },
  {
   "cell_type": "code",
   "execution_count": null,
   "metadata": {},
   "outputs": [],
   "source": []
  }
 ],
 "metadata": {
  "kernelspec": {
   "display_name": "Python 3",
   "language": "python",
   "name": "python3"
  },
  "language_info": {
   "codemirror_mode": {
    "name": "ipython",
    "version": 3
   },
   "file_extension": ".py",
   "mimetype": "text/x-python",
   "name": "python",
   "nbconvert_exporter": "python",
   "pygments_lexer": "ipython3",
   "version": "3.12.2"
  }
 },
 "nbformat": 4,
 "nbformat_minor": 2
}
