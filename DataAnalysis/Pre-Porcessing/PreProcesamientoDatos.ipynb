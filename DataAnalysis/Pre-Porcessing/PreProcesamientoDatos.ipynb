{
 "cells": [
  {
   "cell_type": "markdown",
   "metadata": {},
   "source": [
    "### Pre-procesamiento de datos (Pre-processing data)\n",
    "Tambien conocido como  Data Cleaning o Data Cleansing.\n",
    "\n",
    "Este proceso involucra detectar, eliminar, corregir o transformar cualquier anomalia, perturbacion o irrelevancia en los datos.\n"
   ]
  },
  {
   "cell_type": "markdown",
   "metadata": {},
   "source": [
    "## Arreglos\n",
    "Para el manejo de datos cuantitativos Python cuenta con una estructura llamada `array` que está disponible en el paquete `NumPy`.  \n",
    "\n",
    "Un array o arreglo se entiende como una matriz de elementos organizados en filas y columnas. "
   ]
  },
  {
   "cell_type": "markdown",
   "metadata": {},
   "source": [
    "### Crear una matriz NumPy\n",
    "\n",
    "La forma más sencilla de crear un arreglo en Numpy es usar listas. Puedes convertir una lista de Python en un arreglo de numpy utilizando el objeto `np.array`.\n",
    "\n",
    "Antes de hacerlo, debes importar el paquete usando la expresión `import`:\n",
    "\n",
    ">import numpy as np"
   ]
  },
  {
   "cell_type": "code",
   "execution_count": 1,
   "metadata": {},
   "outputs": [
    {
     "name": "stdout",
     "output_type": "stream",
     "text": [
      "[1 5 3 2]\n",
      "<class 'list'>\n",
      "<class 'numpy.ndarray'>\n"
     ]
    }
   ],
   "source": [
    "import numpy as np\n",
    "myList = [1,5,3,2]\n",
    "numpy_array_from_list = np.array(myList)\n",
    "print(numpy_array_from_list)\n",
    "print(type(myList))\n",
    "print(type(numpy_array_from_list))"
   ]
  },
  {
   "cell_type": "markdown",
   "metadata": {},
   "source": [
    "## "
   ]
  },
  {
   "cell_type": "markdown",
   "metadata": {},
   "source": [
    "### operaciones matematicas en un arreglo\n",
    "\n",
    "Se puede realizar operaciones matematicas como sumas, restas, divisiones y multiplicaciones en un arreglo. La sintaxis es el nombre de la matriz seguido de la operacion (+, -, *, /) seguidas del operado"
   ]
  },
  {
   "cell_type": "code",
   "execution_count": 2,
   "metadata": {},
   "outputs": [
    {
     "data": {
      "text/plain": [
       "array([101, 105, 103, 102])"
      ]
     },
     "execution_count": 2,
     "metadata": {},
     "output_type": "execute_result"
    }
   ],
   "source": [
    "numpy_array_from_list + 100"
   ]
  },
  {
   "cell_type": "markdown",
   "metadata": {},
   "source": [
    "### Forma del arraglo\n",
    "Puedes comprobar la forma del arreglo llamado al objeto `shape` precedido por el nombre del arreglo. De la misma mnera, puedes verificar su tipo con dtypes.\n",
    "\n",
    "El tipo indicado al usar el metodo `dtype` esta dado por los datos dentro de la matriz, si todos son enteros la repuesta sera int64 pero con solo uno que sea float por ejemplo el tipo de dato de la matriz sera float64, el codigo del tipo cambia tomando en cuenta todos los tipos."
   ]
  },
  {
   "cell_type": "code",
   "execution_count": 7,
   "metadata": {},
   "outputs": [
    {
     "name": "stdout",
     "output_type": "stream",
     "text": [
      "['1' '2' '3' '1.33' '?']\n",
      "(5,)\n",
      "<U32\n"
     ]
    }
   ],
   "source": [
    "a = np.array([1,2,3,1.33,\"?\"])\n",
    "print(a)\n",
    "print(a.shape)\n",
    "print(a.dtype)"
   ]
  },
  {
   "cell_type": "code",
   "execution_count": 8,
   "metadata": {},
   "outputs": [
    {
     "name": "stdout",
     "output_type": "stream",
     "text": [
      "[[ 1  2  3]\n",
      " [10 11 12]]\n",
      "(2, 3)\n"
     ]
    }
   ],
   "source": [
    "d = np.array([[1,2,3],[10,11,12]])\n",
    "print(d)\n",
    "print(d.shape)"
   ]
  },
  {
   "cell_type": "markdown",
   "metadata": {},
   "source": [
    "### np.zeros y np.ones\n",
    "Puedes crear un arreglo lleno de ceros o unos usando los comandos np.zeros y np.ones respectivamente."
   ]
  },
  {
   "cell_type": "code",
   "execution_count": 10,
   "metadata": {},
   "outputs": [
    {
     "name": "stdout",
     "output_type": "stream",
     "text": [
      "[[1. 1. 1.]\n",
      " [1. 1. 1.]]\n",
      "[[0. 0. 0. 0.]\n",
      " [0. 0. 0. 0.]\n",
      " [0. 0. 0. 0.]]\n"
     ]
    }
   ],
   "source": [
    "# unos\n",
    "A = np.ones((2,3))\n",
    "print(A)\n",
    "# ceros\n",
    "B = np.zeros((3,4))\n",
    "print(B)"
   ]
  },
  {
   "cell_type": "markdown",
   "metadata": {},
   "source": [
    "### Cambiar la forma de los datos\n",
    "El algunos ocasiones, es necesario cambiar la forma de los datos de ancho a largo. Puedes utilizar la funcion `reshape` para esto:"
   ]
  },
  {
   "cell_type": "code",
   "execution_count": 11,
   "metadata": {},
   "outputs": [
    {
     "name": "stdout",
     "output_type": "stream",
     "text": [
      "[[1 2 3]\n",
      " [4 5 6]]\n"
     ]
    },
    {
     "data": {
      "text/plain": [
       "array([[1, 2],\n",
       "       [3, 4],\n",
       "       [5, 6]])"
      ]
     },
     "execution_count": 11,
     "metadata": {},
     "output_type": "execute_result"
    }
   ],
   "source": [
    "e = np.array([(1,2,3),(4,5,6)])\n",
    "print(e)\n",
    "e.reshape(3,2)"
   ]
  },
  {
   "cell_type": "markdown",
   "metadata": {},
   "source": [
    "### Extraer informacion de arreglos es basicamente igual que en las listas\n",
    "Al tratar con mas de una dimension, se debe considerar un indice para cada dimension\n"
   ]
  },
  {
   "cell_type": "code",
   "execution_count": 15,
   "metadata": {},
   "outputs": [
    {
     "name": "stdout",
     "output_type": "stream",
     "text": [
      "matris completa \n",
      "[[1 2 3]\n",
      " [4 5 6]]\n",
      "elementos\n",
      "[1 2 3]\n",
      "[4 5 6]\n"
     ]
    }
   ],
   "source": [
    "print(\"matris completa \")\n",
    "print(e)\n",
    "print(\"elementos\")\n",
    "print(e[0])\n",
    "print(e[1])"
   ]
  },
  {
   "cell_type": "code",
   "execution_count": 16,
   "metadata": {},
   "outputs": [
    {
     "name": "stdout",
     "output_type": "stream",
     "text": [
      "matris completa \n",
      "[[1 2 3]\n",
      " [4 5 6]]\n",
      "elementos\n",
      "[1 4]\n",
      "[2 5]\n",
      "[3 6]\n"
     ]
    }
   ],
   "source": [
    "print(\"matris completa \")\n",
    "print(e)\n",
    "print(\"elementos\")\n",
    "print(e[:, 0])\n",
    "print(e[:, 1])\n",
    "print(e[:, 2])"
   ]
  },
  {
   "cell_type": "code",
   "execution_count": 17,
   "metadata": {},
   "outputs": [
    {
     "name": "stdout",
     "output_type": "stream",
     "text": [
      "matris completa \n",
      "[[1 2 3]\n",
      " [4 5 6]]\n",
      "elementos\n",
      "1\n",
      "2\n",
      "5\n"
     ]
    }
   ],
   "source": [
    "print(\"matris completa \")\n",
    "print(e)\n",
    "print(\"elementos\")\n",
    "print(e[0,0])\n",
    "print(e[0,1])\n",
    "print(e[1,1])"
   ]
  },
  {
   "cell_type": "markdown",
   "metadata": {},
   "source": [
    "La diferencia clave entre un arreglo y una lista es que los arreglos estan diseñados para mejar opearciones vectoriales, mientras que una lista de Python no lo esta.\n",
    "\n",
    "Esto significa que si aplicas una funcion, se realiza en cada elemento del arreglo, en luga de en todo el objeto de la matriz.\n"
   ]
  },
  {
   "cell_type": "code",
   "execution_count": 18,
   "metadata": {},
   "outputs": [
    {
     "name": "stdout",
     "output_type": "stream",
     "text": [
      "[[3 4 5]\n",
      " [6 7 8]]\n"
     ]
    }
   ],
   "source": [
    "# e es un arreglo definido previamente\n",
    "D = e + 2\n",
    "print(D)\n",
    "  "
   ]
  },
  {
   "cell_type": "code",
   "execution_count": 19,
   "metadata": {},
   "outputs": [],
   "source": [
    "# odd es una lista\n",
    "dd = [1,3,5]\n",
    "# odd + 2 esta operacion genera un error"
   ]
  },
  {
   "cell_type": "markdown",
   "metadata": {},
   "source": [
    "## Dataframe\n",
    "\n",
    "Que son los DataFrames de Pandas?\n",
    "\n",
    "Los DataFrames son una forma de almacenar datos en cuadriculas rectangulares que pueden visualizarse facilmente. Cada fila de estas cuadriculas corresponde a medidas o valores de una instancia, mientras que cada columna es un vector que contiene datos para una variable especifica.\n",
    "\n",
    "Se trata de un set de dtatos organizado en forma tabular, esto significa que las filas de DataFrame no necesitn contener, pero pueden contener, el mismo tipo de valores: pueden ser numericos, de caracteres, logicos, etc."
   ]
  },
  {
   "cell_type": "code",
   "execution_count": 6,
   "metadata": {},
   "outputs": [
    {
     "name": "stdout",
     "output_type": "stream",
     "text": [
      "         Col1  Col2\n",
      "Primero     1     2\n",
      "Segundo     3     4\n"
     ]
    }
   ],
   "source": [
    "import pandas as pd\n",
    "import numpy as np\n",
    "data = np.array([[1,2],[3,4]])\n",
    "col = [\"Col1\", \"Col2\"]\n",
    "idx = [\"Primero\",\"Segundo\"]\n",
    "df = pd.DataFrame(data=data, columns=col, index=idx)\n",
    "print(df)"
   ]
  },
  {
   "cell_type": "markdown",
   "metadata": {},
   "source": [
    "## Operaciones fundamentales de DataFrame\n",
    "Operaciones basicas en un DataFrame: agregar, seleccionar, elminar, renombrar, etc"
   ]
  },
  {
   "cell_type": "code",
   "execution_count": 7,
   "metadata": {},
   "outputs": [
    {
     "name": "stdout",
     "output_type": "stream",
     "text": [
      "usando iloc 1\n",
      "usando loc 2\n",
      "usando at:  2\n",
      "Usando iat 1\n"
     ]
    },
    {
     "name": "stderr",
     "output_type": "stream",
     "text": [
      "C:\\Users\\joseg\\AppData\\Local\\Temp\\ipykernel_82868\\3627037907.py:2: FutureWarning: Series.__getitem__ treating keys as positions is deprecated. In a future version, integer keys will always be treated as labels (consistent with DataFrame behavior). To access a value by position, use `ser.iloc[pos]`\n",
      "  print(\"usando iloc\", df.iloc[0][0])\n"
     ]
    }
   ],
   "source": [
    "# Using iloc[]\n",
    "print(\"usando iloc\", df.iloc[0][0])\n",
    "#usando loc[]\n",
    "print(\"usando loc\", df.loc[\"Primero\"][\"Col2\"])\n",
    "# Using at[]\n",
    "print(\"usando at: \", df.at[\"Primero\",\"Col2\"])\n",
    "# using iat[]\n",
    "print(\"Usando iat\", df.iat[0,0])"
   ]
  },
  {
   "cell_type": "code",
   "execution_count": 8,
   "metadata": {},
   "outputs": [
    {
     "name": "stdout",
     "output_type": "stream",
     "text": [
      "Primero    1\n",
      "Segundo    3\n",
      "Name: Col1, dtype: int64\n",
      "Primero    2\n",
      "Segundo    4\n",
      "Name: Col2, dtype: int64\n"
     ]
    }
   ],
   "source": [
    "# The most common for columns\n",
    "print(df[\"Col1\"])\n",
    "print(df[\"Col2\"])"
   ]
  },
  {
   "cell_type": "code",
   "execution_count": 9,
   "metadata": {},
   "outputs": [
    {
     "name": "stdout",
     "output_type": "stream",
     "text": [
      "estos son los valores [[1 2]\n",
      " [3 4]]\n",
      "estos son los valores de las columnas ['Col1' 'Col2']\n",
      "estos son los valores de los indices  ['Primero' 'Segundo']\n"
     ]
    }
   ],
   "source": [
    "# get values\n",
    "vals = df.values\n",
    "print(\"estos son los valores\", vals)\n",
    "# get columns\n",
    "cls = df.columns.values\n",
    "print(\"estos son los valores de las columnas\", cls)\n",
    "# get columns\n",
    "idx = df.index.values\n",
    "print(\"estos son los valores de los indices \", idx)"
   ]
  },
  {
   "cell_type": "markdown",
   "metadata": {},
   "source": [
    "## Importar datos desde archivos externos\n",
    "Con Pandas podemos importar archivos provenientes de otras plataformas como Microsoft Excel o SPSS con las que se opera en el flujo cotidiano de una investigacion "
   ]
  },
  {
   "cell_type": "code",
   "execution_count": 2,
   "metadata": {},
   "outputs": [
    {
     "data": {
      "text/html": [
       "<div>\n",
       "<style scoped>\n",
       "    .dataframe tbody tr th:only-of-type {\n",
       "        vertical-align: middle;\n",
       "    }\n",
       "\n",
       "    .dataframe tbody tr th {\n",
       "        vertical-align: top;\n",
       "    }\n",
       "\n",
       "    .dataframe thead th {\n",
       "        text-align: right;\n",
       "    }\n",
       "</style>\n",
       "<table border=\"1\" class=\"dataframe\">\n",
       "  <thead>\n",
       "    <tr style=\"text-align: right;\">\n",
       "      <th></th>\n",
       "      <th>name</th>\n",
       "      <th>gender</th>\n",
       "      <th>height</th>\n",
       "      <th>weight</th>\n",
       "      <th>eyecolor</th>\n",
       "      <th>haircolor</th>\n",
       "      <th>skincolor</th>\n",
       "      <th>homeland</th>\n",
       "      <th>born</th>\n",
       "      <th>died</th>\n",
       "      <th>jedi</th>\n",
       "      <th>species</th>\n",
       "      <th>weapon</th>\n",
       "    </tr>\n",
       "  </thead>\n",
       "  <tbody>\n",
       "    <tr>\n",
       "      <th>0</th>\n",
       "      <td>Anakin Skywalker</td>\n",
       "      <td>male</td>\n",
       "      <td>1.88</td>\n",
       "      <td>84.0</td>\n",
       "      <td>blue</td>\n",
       "      <td>blond</td>\n",
       "      <td>fair</td>\n",
       "      <td>Tatooine</td>\n",
       "      <td>41.9BBY</td>\n",
       "      <td>4ABY</td>\n",
       "      <td>yes_jedi</td>\n",
       "      <td>human</td>\n",
       "      <td>lightsaber</td>\n",
       "    </tr>\n",
       "    <tr>\n",
       "      <th>1</th>\n",
       "      <td>Padme Amidala</td>\n",
       "      <td>female</td>\n",
       "      <td>1.65</td>\n",
       "      <td>45.0</td>\n",
       "      <td>brown</td>\n",
       "      <td>brown</td>\n",
       "      <td>light</td>\n",
       "      <td>Naboo</td>\n",
       "      <td>46BBY</td>\n",
       "      <td>19BBY</td>\n",
       "      <td>no_jedi</td>\n",
       "      <td>human</td>\n",
       "      <td>unarmed</td>\n",
       "    </tr>\n",
       "    <tr>\n",
       "      <th>2</th>\n",
       "      <td>Luke Skywalker</td>\n",
       "      <td>male</td>\n",
       "      <td>1.72</td>\n",
       "      <td>77.0</td>\n",
       "      <td>blue</td>\n",
       "      <td>blond</td>\n",
       "      <td>fair</td>\n",
       "      <td>Tatooine</td>\n",
       "      <td>19BBY</td>\n",
       "      <td>unk_died</td>\n",
       "      <td>yes_jedi</td>\n",
       "      <td>human</td>\n",
       "      <td>lightsaber</td>\n",
       "    </tr>\n",
       "    <tr>\n",
       "      <th>3</th>\n",
       "      <td>Leia Organa</td>\n",
       "      <td>female</td>\n",
       "      <td>1.50</td>\n",
       "      <td>49.0</td>\n",
       "      <td>brown</td>\n",
       "      <td>brown</td>\n",
       "      <td>light</td>\n",
       "      <td>Alderaan</td>\n",
       "      <td>19BBY</td>\n",
       "      <td>unk_died</td>\n",
       "      <td>no_jedi</td>\n",
       "      <td>human</td>\n",
       "      <td>blaster</td>\n",
       "    </tr>\n",
       "    <tr>\n",
       "      <th>4</th>\n",
       "      <td>Qui-Gon Jinn</td>\n",
       "      <td>male</td>\n",
       "      <td>1.93</td>\n",
       "      <td>88.5</td>\n",
       "      <td>blue</td>\n",
       "      <td>brown</td>\n",
       "      <td>light</td>\n",
       "      <td>unk_planet</td>\n",
       "      <td>92BBY</td>\n",
       "      <td>32BBY</td>\n",
       "      <td>yes_jedi</td>\n",
       "      <td>human</td>\n",
       "      <td>lightsaber</td>\n",
       "    </tr>\n",
       "    <tr>\n",
       "      <th>5</th>\n",
       "      <td>Obi-Wan Kenobi</td>\n",
       "      <td>male</td>\n",
       "      <td>1.82</td>\n",
       "      <td>77.0</td>\n",
       "      <td>bluegray</td>\n",
       "      <td>auburn</td>\n",
       "      <td>fair</td>\n",
       "      <td>Stewjon</td>\n",
       "      <td>57BBY</td>\n",
       "      <td>0BBY</td>\n",
       "      <td>yes_jedi</td>\n",
       "      <td>human</td>\n",
       "      <td>lightsaber</td>\n",
       "    </tr>\n",
       "    <tr>\n",
       "      <th>6</th>\n",
       "      <td>Han Solo</td>\n",
       "      <td>male</td>\n",
       "      <td>1.80</td>\n",
       "      <td>80.0</td>\n",
       "      <td>brown</td>\n",
       "      <td>brown</td>\n",
       "      <td>light</td>\n",
       "      <td>Corellia</td>\n",
       "      <td>29BBY</td>\n",
       "      <td>unk_died</td>\n",
       "      <td>no_jedi</td>\n",
       "      <td>human</td>\n",
       "      <td>blaster</td>\n",
       "    </tr>\n",
       "    <tr>\n",
       "      <th>7</th>\n",
       "      <td>Sheev Palpatine</td>\n",
       "      <td>male</td>\n",
       "      <td>1.73</td>\n",
       "      <td>75.0</td>\n",
       "      <td>blue</td>\n",
       "      <td>red</td>\n",
       "      <td>pale</td>\n",
       "      <td>Naboo</td>\n",
       "      <td>82BBY</td>\n",
       "      <td>10ABY</td>\n",
       "      <td>no_jedi</td>\n",
       "      <td>human</td>\n",
       "      <td>force-lightning</td>\n",
       "    </tr>\n",
       "    <tr>\n",
       "      <th>8</th>\n",
       "      <td>R2-D2</td>\n",
       "      <td>male</td>\n",
       "      <td>0.96</td>\n",
       "      <td>32.0</td>\n",
       "      <td>NaN</td>\n",
       "      <td>NaN</td>\n",
       "      <td>NaN</td>\n",
       "      <td>Naboo</td>\n",
       "      <td>33BBY</td>\n",
       "      <td>unk_died</td>\n",
       "      <td>no_jedi</td>\n",
       "      <td>droid</td>\n",
       "      <td>unarmed</td>\n",
       "    </tr>\n",
       "    <tr>\n",
       "      <th>9</th>\n",
       "      <td>C-3PO</td>\n",
       "      <td>male</td>\n",
       "      <td>1.67</td>\n",
       "      <td>75.0</td>\n",
       "      <td>NaN</td>\n",
       "      <td>NaN</td>\n",
       "      <td>NaN</td>\n",
       "      <td>Tatooine</td>\n",
       "      <td>112BBY</td>\n",
       "      <td>3ABY</td>\n",
       "      <td>no_jedi</td>\n",
       "      <td>droid</td>\n",
       "      <td>unarmed</td>\n",
       "    </tr>\n",
       "    <tr>\n",
       "      <th>10</th>\n",
       "      <td>Yoda</td>\n",
       "      <td>male</td>\n",
       "      <td>0.66</td>\n",
       "      <td>17.0</td>\n",
       "      <td>brown</td>\n",
       "      <td>brown</td>\n",
       "      <td>green</td>\n",
       "      <td>unk_planet</td>\n",
       "      <td>896BBY</td>\n",
       "      <td>4ABY</td>\n",
       "      <td>yes_jedi</td>\n",
       "      <td>yoda</td>\n",
       "      <td>lightsaber</td>\n",
       "    </tr>\n",
       "    <tr>\n",
       "      <th>11</th>\n",
       "      <td>Darth Maul</td>\n",
       "      <td>male</td>\n",
       "      <td>1.75</td>\n",
       "      <td>80.0</td>\n",
       "      <td>yellow</td>\n",
       "      <td>none</td>\n",
       "      <td>red</td>\n",
       "      <td>Dathomir</td>\n",
       "      <td>54BBY</td>\n",
       "      <td>unk_died</td>\n",
       "      <td>no_jedi</td>\n",
       "      <td>dathomirian</td>\n",
       "      <td>lightsaber</td>\n",
       "    </tr>\n",
       "    <tr>\n",
       "      <th>12</th>\n",
       "      <td>Dooku</td>\n",
       "      <td>male</td>\n",
       "      <td>1.93</td>\n",
       "      <td>86.0</td>\n",
       "      <td>brown</td>\n",
       "      <td>brown</td>\n",
       "      <td>light</td>\n",
       "      <td>Serenno</td>\n",
       "      <td>102BBY</td>\n",
       "      <td>19BBY</td>\n",
       "      <td>yes_jedi</td>\n",
       "      <td>human</td>\n",
       "      <td>lightsaber</td>\n",
       "    </tr>\n",
       "    <tr>\n",
       "      <th>13</th>\n",
       "      <td>Chewbacca</td>\n",
       "      <td>male</td>\n",
       "      <td>2.28</td>\n",
       "      <td>112.0</td>\n",
       "      <td>blue</td>\n",
       "      <td>brown</td>\n",
       "      <td>NaN</td>\n",
       "      <td>Kashyyyk</td>\n",
       "      <td>200BBY</td>\n",
       "      <td>25ABY</td>\n",
       "      <td>no_jedi</td>\n",
       "      <td>wookiee</td>\n",
       "      <td>bowcaster</td>\n",
       "    </tr>\n",
       "    <tr>\n",
       "      <th>14</th>\n",
       "      <td>Jabba</td>\n",
       "      <td>male</td>\n",
       "      <td>3.90</td>\n",
       "      <td>NaN</td>\n",
       "      <td>yellow</td>\n",
       "      <td>none</td>\n",
       "      <td>tan-green</td>\n",
       "      <td>Tatooine</td>\n",
       "      <td>unk_born</td>\n",
       "      <td>4ABY</td>\n",
       "      <td>no_jedi</td>\n",
       "      <td>hutt</td>\n",
       "      <td>unarmed</td>\n",
       "    </tr>\n",
       "    <tr>\n",
       "      <th>15</th>\n",
       "      <td>Lando Calrissian</td>\n",
       "      <td>male</td>\n",
       "      <td>1.78</td>\n",
       "      <td>79.0</td>\n",
       "      <td>brown</td>\n",
       "      <td>blank</td>\n",
       "      <td>dark</td>\n",
       "      <td>Socorro</td>\n",
       "      <td>31BBY</td>\n",
       "      <td>unk_died</td>\n",
       "      <td>no_jedi</td>\n",
       "      <td>human</td>\n",
       "      <td>blaster</td>\n",
       "    </tr>\n",
       "    <tr>\n",
       "      <th>16</th>\n",
       "      <td>Boba Fett</td>\n",
       "      <td>male</td>\n",
       "      <td>1.83</td>\n",
       "      <td>78.0</td>\n",
       "      <td>brown</td>\n",
       "      <td>black</td>\n",
       "      <td>brown</td>\n",
       "      <td>Kamino</td>\n",
       "      <td>31.5BBY</td>\n",
       "      <td>unk_died</td>\n",
       "      <td>no_jedi</td>\n",
       "      <td>human</td>\n",
       "      <td>blaster</td>\n",
       "    </tr>\n",
       "    <tr>\n",
       "      <th>17</th>\n",
       "      <td>Jango Fett</td>\n",
       "      <td>male</td>\n",
       "      <td>1.83</td>\n",
       "      <td>79.0</td>\n",
       "      <td>brown</td>\n",
       "      <td>black</td>\n",
       "      <td>brown</td>\n",
       "      <td>ConcordDawn</td>\n",
       "      <td>66BBY</td>\n",
       "      <td>22BBY</td>\n",
       "      <td>no_jedi</td>\n",
       "      <td>human</td>\n",
       "      <td>blaster</td>\n",
       "    </tr>\n",
       "    <tr>\n",
       "      <th>18</th>\n",
       "      <td>Grievous</td>\n",
       "      <td>male</td>\n",
       "      <td>2.16</td>\n",
       "      <td>159.0</td>\n",
       "      <td>gold</td>\n",
       "      <td>black</td>\n",
       "      <td>orange</td>\n",
       "      <td>Kalee</td>\n",
       "      <td>unk_born</td>\n",
       "      <td>19BBY</td>\n",
       "      <td>no_jedi</td>\n",
       "      <td>kaleesh</td>\n",
       "      <td>slugthrower</td>\n",
       "    </tr>\n",
       "    <tr>\n",
       "      <th>19</th>\n",
       "      <td>Chief Chirpa</td>\n",
       "      <td>male</td>\n",
       "      <td>1.00</td>\n",
       "      <td>50.0</td>\n",
       "      <td>black</td>\n",
       "      <td>gray</td>\n",
       "      <td>brown</td>\n",
       "      <td>Endor</td>\n",
       "      <td>unk_born</td>\n",
       "      <td>4ABY</td>\n",
       "      <td>no_jedi</td>\n",
       "      <td>ewok</td>\n",
       "      <td>spear</td>\n",
       "    </tr>\n",
       "  </tbody>\n",
       "</table>\n",
       "</div>"
      ],
      "text/plain": [
       "                name  gender  height  weight  eyecolor haircolor  skincolor  \\\n",
       "0   Anakin Skywalker    male    1.88    84.0      blue     blond       fair   \n",
       "1      Padme Amidala  female    1.65    45.0     brown     brown      light   \n",
       "2     Luke Skywalker    male    1.72    77.0      blue     blond       fair   \n",
       "3        Leia Organa  female    1.50    49.0     brown     brown      light   \n",
       "4       Qui-Gon Jinn    male    1.93    88.5      blue     brown      light   \n",
       "5     Obi-Wan Kenobi    male    1.82    77.0  bluegray    auburn       fair   \n",
       "6           Han Solo    male    1.80    80.0     brown     brown      light   \n",
       "7    Sheev Palpatine    male    1.73    75.0      blue       red       pale   \n",
       "8              R2-D2    male    0.96    32.0       NaN       NaN        NaN   \n",
       "9              C-3PO    male    1.67    75.0       NaN       NaN        NaN   \n",
       "10              Yoda    male    0.66    17.0     brown     brown      green   \n",
       "11        Darth Maul    male    1.75    80.0    yellow      none        red   \n",
       "12             Dooku    male    1.93    86.0     brown     brown      light   \n",
       "13         Chewbacca    male    2.28   112.0      blue     brown        NaN   \n",
       "14             Jabba    male    3.90     NaN    yellow      none  tan-green   \n",
       "15  Lando Calrissian    male    1.78    79.0     brown     blank       dark   \n",
       "16         Boba Fett    male    1.83    78.0     brown     black      brown   \n",
       "17        Jango Fett    male    1.83    79.0     brown     black      brown   \n",
       "18          Grievous    male    2.16   159.0      gold     black     orange   \n",
       "19      Chief Chirpa    male    1.00    50.0     black      gray      brown   \n",
       "\n",
       "       homeland      born      died      jedi      species           weapon  \n",
       "0      Tatooine   41.9BBY      4ABY  yes_jedi        human       lightsaber  \n",
       "1         Naboo     46BBY     19BBY   no_jedi        human          unarmed  \n",
       "2      Tatooine     19BBY  unk_died  yes_jedi        human       lightsaber  \n",
       "3      Alderaan     19BBY  unk_died   no_jedi        human          blaster  \n",
       "4    unk_planet     92BBY     32BBY  yes_jedi        human       lightsaber  \n",
       "5       Stewjon     57BBY      0BBY  yes_jedi        human       lightsaber  \n",
       "6      Corellia     29BBY  unk_died   no_jedi        human          blaster  \n",
       "7         Naboo     82BBY     10ABY   no_jedi        human  force-lightning  \n",
       "8         Naboo     33BBY  unk_died   no_jedi        droid          unarmed  \n",
       "9      Tatooine    112BBY      3ABY   no_jedi        droid          unarmed  \n",
       "10   unk_planet    896BBY      4ABY  yes_jedi         yoda       lightsaber  \n",
       "11     Dathomir     54BBY  unk_died   no_jedi  dathomirian       lightsaber  \n",
       "12      Serenno    102BBY     19BBY  yes_jedi        human       lightsaber  \n",
       "13     Kashyyyk    200BBY     25ABY   no_jedi      wookiee        bowcaster  \n",
       "14     Tatooine  unk_born      4ABY   no_jedi         hutt          unarmed  \n",
       "15      Socorro     31BBY  unk_died   no_jedi        human          blaster  \n",
       "16       Kamino   31.5BBY  unk_died   no_jedi        human          blaster  \n",
       "17  ConcordDawn     66BBY     22BBY   no_jedi        human          blaster  \n",
       "18        Kalee  unk_born     19BBY   no_jedi      kaleesh      slugthrower  \n",
       "19        Endor  unk_born      4ABY   no_jedi         ewok            spear  "
      ]
     },
     "execution_count": 2,
     "metadata": {},
     "output_type": "execute_result"
    }
   ],
   "source": [
    "import pandas as pd\n",
    "sw = pd.read_csv(\n",
    "    \"https://raw.githubusercontent.com/gastonstat/matrix4sl/master/data/starwars.csv\"\n",
    ")\n",
    "sw"
   ]
  },
  {
   "cell_type": "markdown",
   "metadata": {},
   "source": [
    "En caso de querer visualizar solo las primeras entradas de nuestra base de datos, podemos utilizar el metodo `head()`"
   ]
  },
  {
   "cell_type": "code",
   "execution_count": 3,
   "metadata": {},
   "outputs": [
    {
     "data": {
      "text/html": [
       "<div>\n",
       "<style scoped>\n",
       "    .dataframe tbody tr th:only-of-type {\n",
       "        vertical-align: middle;\n",
       "    }\n",
       "\n",
       "    .dataframe tbody tr th {\n",
       "        vertical-align: top;\n",
       "    }\n",
       "\n",
       "    .dataframe thead th {\n",
       "        text-align: right;\n",
       "    }\n",
       "</style>\n",
       "<table border=\"1\" class=\"dataframe\">\n",
       "  <thead>\n",
       "    <tr style=\"text-align: right;\">\n",
       "      <th></th>\n",
       "      <th>name</th>\n",
       "      <th>gender</th>\n",
       "      <th>height</th>\n",
       "      <th>weight</th>\n",
       "      <th>eyecolor</th>\n",
       "      <th>haircolor</th>\n",
       "      <th>skincolor</th>\n",
       "      <th>homeland</th>\n",
       "      <th>born</th>\n",
       "      <th>died</th>\n",
       "      <th>jedi</th>\n",
       "      <th>species</th>\n",
       "      <th>weapon</th>\n",
       "    </tr>\n",
       "  </thead>\n",
       "  <tbody>\n",
       "    <tr>\n",
       "      <th>0</th>\n",
       "      <td>Anakin Skywalker</td>\n",
       "      <td>male</td>\n",
       "      <td>1.88</td>\n",
       "      <td>84.0</td>\n",
       "      <td>blue</td>\n",
       "      <td>blond</td>\n",
       "      <td>fair</td>\n",
       "      <td>Tatooine</td>\n",
       "      <td>41.9BBY</td>\n",
       "      <td>4ABY</td>\n",
       "      <td>yes_jedi</td>\n",
       "      <td>human</td>\n",
       "      <td>lightsaber</td>\n",
       "    </tr>\n",
       "    <tr>\n",
       "      <th>1</th>\n",
       "      <td>Padme Amidala</td>\n",
       "      <td>female</td>\n",
       "      <td>1.65</td>\n",
       "      <td>45.0</td>\n",
       "      <td>brown</td>\n",
       "      <td>brown</td>\n",
       "      <td>light</td>\n",
       "      <td>Naboo</td>\n",
       "      <td>46BBY</td>\n",
       "      <td>19BBY</td>\n",
       "      <td>no_jedi</td>\n",
       "      <td>human</td>\n",
       "      <td>unarmed</td>\n",
       "    </tr>\n",
       "    <tr>\n",
       "      <th>2</th>\n",
       "      <td>Luke Skywalker</td>\n",
       "      <td>male</td>\n",
       "      <td>1.72</td>\n",
       "      <td>77.0</td>\n",
       "      <td>blue</td>\n",
       "      <td>blond</td>\n",
       "      <td>fair</td>\n",
       "      <td>Tatooine</td>\n",
       "      <td>19BBY</td>\n",
       "      <td>unk_died</td>\n",
       "      <td>yes_jedi</td>\n",
       "      <td>human</td>\n",
       "      <td>lightsaber</td>\n",
       "    </tr>\n",
       "    <tr>\n",
       "      <th>3</th>\n",
       "      <td>Leia Organa</td>\n",
       "      <td>female</td>\n",
       "      <td>1.50</td>\n",
       "      <td>49.0</td>\n",
       "      <td>brown</td>\n",
       "      <td>brown</td>\n",
       "      <td>light</td>\n",
       "      <td>Alderaan</td>\n",
       "      <td>19BBY</td>\n",
       "      <td>unk_died</td>\n",
       "      <td>no_jedi</td>\n",
       "      <td>human</td>\n",
       "      <td>blaster</td>\n",
       "    </tr>\n",
       "    <tr>\n",
       "      <th>4</th>\n",
       "      <td>Qui-Gon Jinn</td>\n",
       "      <td>male</td>\n",
       "      <td>1.93</td>\n",
       "      <td>88.5</td>\n",
       "      <td>blue</td>\n",
       "      <td>brown</td>\n",
       "      <td>light</td>\n",
       "      <td>unk_planet</td>\n",
       "      <td>92BBY</td>\n",
       "      <td>32BBY</td>\n",
       "      <td>yes_jedi</td>\n",
       "      <td>human</td>\n",
       "      <td>lightsaber</td>\n",
       "    </tr>\n",
       "  </tbody>\n",
       "</table>\n",
       "</div>"
      ],
      "text/plain": [
       "               name  gender  height  weight eyecolor haircolor skincolor  \\\n",
       "0  Anakin Skywalker    male    1.88    84.0     blue     blond      fair   \n",
       "1     Padme Amidala  female    1.65    45.0    brown     brown     light   \n",
       "2    Luke Skywalker    male    1.72    77.0     blue     blond      fair   \n",
       "3       Leia Organa  female    1.50    49.0    brown     brown     light   \n",
       "4      Qui-Gon Jinn    male    1.93    88.5     blue     brown     light   \n",
       "\n",
       "     homeland     born      died      jedi species      weapon  \n",
       "0    Tatooine  41.9BBY      4ABY  yes_jedi   human  lightsaber  \n",
       "1       Naboo    46BBY     19BBY   no_jedi   human     unarmed  \n",
       "2    Tatooine    19BBY  unk_died  yes_jedi   human  lightsaber  \n",
       "3    Alderaan    19BBY  unk_died   no_jedi   human     blaster  \n",
       "4  unk_planet    92BBY     32BBY  yes_jedi   human  lightsaber  "
      ]
     },
     "execution_count": 3,
     "metadata": {},
     "output_type": "execute_result"
    }
   ],
   "source": [
    "sw.head(5)"
   ]
  },
  {
   "cell_type": "markdown",
   "metadata": {},
   "source": [
    "para el caso en el que al momento de importar los datos, necesite  especificar el tipo de delimitados"
   ]
  },
  {
   "cell_type": "code",
   "execution_count": null,
   "metadata": {},
   "outputs": [],
   "source": [
    "davis_data = pd.read_csv(\n",
    "    \"https://socialsciences.mcmaster.ca/jfox/Books/Applied-Regression-3E/datasets/Davis.txt\",\n",
    "    sep=r\"\\s{1,}\",\n",
    "    engine=\"python\",\n",
    ")\n",
    "davis_data.head()"
   ]
  },
  {
   "cell_type": "markdown",
   "metadata": {},
   "source": [
    "Puede  que en algunos casos sea necesario especificar el signo que se utiliza para separar los decimales. En es caso, se puede añadir el argumento `decimal` al metodo `read_csv`"
   ]
  },
  {
   "cell_type": "markdown",
   "metadata": {},
   "source": [
    "## Arvhicos de Microsoft Excel"
   ]
  },
  {
   "cell_type": "code",
   "execution_count": null,
   "metadata": {},
   "outputs": [],
   "source": [
    "robot_data = pd.read_excel(\n",
    "    \"https://github.com/renatoparedes/IntroPythonInvestigacionPsicologia/raw/master/AnalisisdeDatosCuantitativos/robot_data.xlsx\"\n",
    ")\n",
    "robot_data.head()"
   ]
  },
  {
   "cell_type": "markdown",
   "metadata": {},
   "source": [
    "## Archivos de IBM SPSS\n",
    "Los archivos de SPSS pueden ser leido por pandas, pero solo si estos se encuentran en el repositorio local (no pueden emplearse URLs como en los casos anteriores)\n",
    "Al trabajar con Google Clolab, hace falta cargar el archivo deseado a la nube. Ademas se requiere instalar manualmente la libreria `pyreadstat`"
   ]
  },
  {
   "cell_type": "code",
   "execution_count": null,
   "metadata": {},
   "outputs": [],
   "source": [
    "#! pip install pyreadstat\n",
    "euthan = pd.read_spss(\"euthan.sav\")\n",
    "euthan.head()"
   ]
  },
  {
   "cell_type": "markdown",
   "metadata": {},
   "source": [
    "## Reorganizacion de datos\n",
    "Las operaciones mas comunes suelen ser transponer filas y columnas y generar agrupamientos"
   ]
  },
  {
   "cell_type": "markdown",
   "metadata": {},
   "source": [
    "## Unpivot\n",
    "Consiste en pasar de formato ancho a formato largo. Dicho de otro modo, pasar de acumular la informacion en varias columnas a varias filas."
   ]
  },
  {
   "cell_type": "code",
   "execution_count": null,
   "metadata": {},
   "outputs": [],
   "source": [
    "intent = robot_data[\n",
    "    [\n",
    "        \"Participante\",\n",
    "        \"Int_Waving\",\n",
    "        \"Int_Pointing\",\n",
    "        \"Int_Negacion\",\n",
    "        \"Int_Explicar\",\n",
    "        \"Int_Tristeza\",\n",
    "        \"Int_Nodding\",\n",
    "    ]\n",
    "]\n",
    "intent.head()"
   ]
  },
  {
   "cell_type": "markdown",
   "metadata": {},
   "source": [
    "Podemos pasar de este formrato ancho a un formato a largo empleando el metodo `metl`"
   ]
  },
  {
   "cell_type": "code",
   "execution_count": null,
   "metadata": {},
   "outputs": [],
   "source": [
    "melt_intent = pd.melt(\n",
    "    intent, value_name=\"Guess\", var_name=\"Gesture\", id_vars=\"Participante\"\n",
    ")\n",
    "melt_intent"
   ]
  },
  {
   "cell_type": "markdown",
   "metadata": {},
   "source": [
    "Este metodo nos permiet tomar los valores de las columnas y representarlos en una sola denominada `Guess`. Para ello, empareja cada valor de eseta nueva columna con los de la variable `Guesture`,  la cual registra los nombre delas condiciones experimentales.\n",
    "\n",
    "Para identificar acada participante, el metodo considera el argumento `id_vars`."
   ]
  },
  {
   "cell_type": "markdown",
   "metadata": {},
   "source": [
    "## Pivot\n",
    "Podemos hacer el proceso inverso: transformar los datos de formato largo a formato ancho. Es dicir, pasar de acumular los datos en varias filas a varias columnas."
   ]
  },
  {
   "cell_type": "markdown",
   "metadata": {},
   "source": [
    "Para pasar a formato ancho, podemmos emplear el metodo `pivot`"
   ]
  },
  {
   "cell_type": "code",
   "execution_count": null,
   "metadata": {},
   "outputs": [],
   "source": [
    "new_intent = pd.pivot(\n",
    "    melt_intent, columns=\"Gesture\", values=\"Guess\", index=\"Participante\"\n",
    ")\n",
    "new_intent"
   ]
  },
  {
   "cell_type": "markdown",
   "metadata": {},
   "source": [
    "## Group by\n",
    "Una operacion de groupby implica una combinacion de division del objeto, aplicacion de una funcion y combinacion de los resultados. Esto puede utilizarse para agrupar grandes cantidades de datos y culcular operaciones sobre estos grupos."
   ]
  },
  {
   "cell_type": "code",
   "execution_count": 9,
   "metadata": {},
   "outputs": [
    {
     "data": {
      "text/html": [
       "<div>\n",
       "<style scoped>\n",
       "    .dataframe tbody tr th:only-of-type {\n",
       "        vertical-align: middle;\n",
       "    }\n",
       "\n",
       "    .dataframe tbody tr th {\n",
       "        vertical-align: top;\n",
       "    }\n",
       "\n",
       "    .dataframe thead th {\n",
       "        text-align: right;\n",
       "    }\n",
       "</style>\n",
       "<table border=\"1\" class=\"dataframe\">\n",
       "  <thead>\n",
       "    <tr style=\"text-align: right;\">\n",
       "      <th></th>\n",
       "      <th>name</th>\n",
       "      <th>gender</th>\n",
       "      <th>height</th>\n",
       "      <th>weight</th>\n",
       "      <th>eyecolor</th>\n",
       "      <th>haircolor</th>\n",
       "      <th>skincolor</th>\n",
       "      <th>homeland</th>\n",
       "      <th>born</th>\n",
       "      <th>died</th>\n",
       "      <th>jedi</th>\n",
       "      <th>species</th>\n",
       "      <th>weapon</th>\n",
       "    </tr>\n",
       "  </thead>\n",
       "  <tbody>\n",
       "    <tr>\n",
       "      <th>0</th>\n",
       "      <td>Anakin Skywalker</td>\n",
       "      <td>male</td>\n",
       "      <td>1.88</td>\n",
       "      <td>84.0</td>\n",
       "      <td>blue</td>\n",
       "      <td>blond</td>\n",
       "      <td>fair</td>\n",
       "      <td>Tatooine</td>\n",
       "      <td>41.9BBY</td>\n",
       "      <td>4ABY</td>\n",
       "      <td>yes_jedi</td>\n",
       "      <td>human</td>\n",
       "      <td>lightsaber</td>\n",
       "    </tr>\n",
       "    <tr>\n",
       "      <th>1</th>\n",
       "      <td>Padme Amidala</td>\n",
       "      <td>female</td>\n",
       "      <td>1.65</td>\n",
       "      <td>45.0</td>\n",
       "      <td>brown</td>\n",
       "      <td>brown</td>\n",
       "      <td>light</td>\n",
       "      <td>Naboo</td>\n",
       "      <td>46BBY</td>\n",
       "      <td>19BBY</td>\n",
       "      <td>no_jedi</td>\n",
       "      <td>human</td>\n",
       "      <td>unarmed</td>\n",
       "    </tr>\n",
       "    <tr>\n",
       "      <th>2</th>\n",
       "      <td>Luke Skywalker</td>\n",
       "      <td>male</td>\n",
       "      <td>1.72</td>\n",
       "      <td>77.0</td>\n",
       "      <td>blue</td>\n",
       "      <td>blond</td>\n",
       "      <td>fair</td>\n",
       "      <td>Tatooine</td>\n",
       "      <td>19BBY</td>\n",
       "      <td>unk_died</td>\n",
       "      <td>yes_jedi</td>\n",
       "      <td>human</td>\n",
       "      <td>lightsaber</td>\n",
       "    </tr>\n",
       "    <tr>\n",
       "      <th>3</th>\n",
       "      <td>Leia Organa</td>\n",
       "      <td>female</td>\n",
       "      <td>1.50</td>\n",
       "      <td>49.0</td>\n",
       "      <td>brown</td>\n",
       "      <td>brown</td>\n",
       "      <td>light</td>\n",
       "      <td>Alderaan</td>\n",
       "      <td>19BBY</td>\n",
       "      <td>unk_died</td>\n",
       "      <td>no_jedi</td>\n",
       "      <td>human</td>\n",
       "      <td>blaster</td>\n",
       "    </tr>\n",
       "    <tr>\n",
       "      <th>4</th>\n",
       "      <td>Qui-Gon Jinn</td>\n",
       "      <td>male</td>\n",
       "      <td>1.93</td>\n",
       "      <td>88.5</td>\n",
       "      <td>blue</td>\n",
       "      <td>brown</td>\n",
       "      <td>light</td>\n",
       "      <td>unk_planet</td>\n",
       "      <td>92BBY</td>\n",
       "      <td>32BBY</td>\n",
       "      <td>yes_jedi</td>\n",
       "      <td>human</td>\n",
       "      <td>lightsaber</td>\n",
       "    </tr>\n",
       "    <tr>\n",
       "      <th>5</th>\n",
       "      <td>Obi-Wan Kenobi</td>\n",
       "      <td>male</td>\n",
       "      <td>1.82</td>\n",
       "      <td>77.0</td>\n",
       "      <td>bluegray</td>\n",
       "      <td>auburn</td>\n",
       "      <td>fair</td>\n",
       "      <td>Stewjon</td>\n",
       "      <td>57BBY</td>\n",
       "      <td>0BBY</td>\n",
       "      <td>yes_jedi</td>\n",
       "      <td>human</td>\n",
       "      <td>lightsaber</td>\n",
       "    </tr>\n",
       "    <tr>\n",
       "      <th>6</th>\n",
       "      <td>Han Solo</td>\n",
       "      <td>male</td>\n",
       "      <td>1.80</td>\n",
       "      <td>80.0</td>\n",
       "      <td>brown</td>\n",
       "      <td>brown</td>\n",
       "      <td>light</td>\n",
       "      <td>Corellia</td>\n",
       "      <td>29BBY</td>\n",
       "      <td>unk_died</td>\n",
       "      <td>no_jedi</td>\n",
       "      <td>human</td>\n",
       "      <td>blaster</td>\n",
       "    </tr>\n",
       "    <tr>\n",
       "      <th>7</th>\n",
       "      <td>Sheev Palpatine</td>\n",
       "      <td>male</td>\n",
       "      <td>1.73</td>\n",
       "      <td>75.0</td>\n",
       "      <td>blue</td>\n",
       "      <td>red</td>\n",
       "      <td>pale</td>\n",
       "      <td>Naboo</td>\n",
       "      <td>82BBY</td>\n",
       "      <td>10ABY</td>\n",
       "      <td>no_jedi</td>\n",
       "      <td>human</td>\n",
       "      <td>force-lightning</td>\n",
       "    </tr>\n",
       "    <tr>\n",
       "      <th>8</th>\n",
       "      <td>R2-D2</td>\n",
       "      <td>male</td>\n",
       "      <td>0.96</td>\n",
       "      <td>32.0</td>\n",
       "      <td>NaN</td>\n",
       "      <td>NaN</td>\n",
       "      <td>NaN</td>\n",
       "      <td>Naboo</td>\n",
       "      <td>33BBY</td>\n",
       "      <td>unk_died</td>\n",
       "      <td>no_jedi</td>\n",
       "      <td>droid</td>\n",
       "      <td>unarmed</td>\n",
       "    </tr>\n",
       "    <tr>\n",
       "      <th>9</th>\n",
       "      <td>C-3PO</td>\n",
       "      <td>male</td>\n",
       "      <td>1.67</td>\n",
       "      <td>75.0</td>\n",
       "      <td>NaN</td>\n",
       "      <td>NaN</td>\n",
       "      <td>NaN</td>\n",
       "      <td>Tatooine</td>\n",
       "      <td>112BBY</td>\n",
       "      <td>3ABY</td>\n",
       "      <td>no_jedi</td>\n",
       "      <td>droid</td>\n",
       "      <td>unarmed</td>\n",
       "    </tr>\n",
       "    <tr>\n",
       "      <th>10</th>\n",
       "      <td>Yoda</td>\n",
       "      <td>male</td>\n",
       "      <td>0.66</td>\n",
       "      <td>17.0</td>\n",
       "      <td>brown</td>\n",
       "      <td>brown</td>\n",
       "      <td>green</td>\n",
       "      <td>unk_planet</td>\n",
       "      <td>896BBY</td>\n",
       "      <td>4ABY</td>\n",
       "      <td>yes_jedi</td>\n",
       "      <td>yoda</td>\n",
       "      <td>lightsaber</td>\n",
       "    </tr>\n",
       "    <tr>\n",
       "      <th>11</th>\n",
       "      <td>Darth Maul</td>\n",
       "      <td>male</td>\n",
       "      <td>1.75</td>\n",
       "      <td>80.0</td>\n",
       "      <td>yellow</td>\n",
       "      <td>none</td>\n",
       "      <td>red</td>\n",
       "      <td>Dathomir</td>\n",
       "      <td>54BBY</td>\n",
       "      <td>unk_died</td>\n",
       "      <td>no_jedi</td>\n",
       "      <td>dathomirian</td>\n",
       "      <td>lightsaber</td>\n",
       "    </tr>\n",
       "    <tr>\n",
       "      <th>12</th>\n",
       "      <td>Dooku</td>\n",
       "      <td>male</td>\n",
       "      <td>1.93</td>\n",
       "      <td>86.0</td>\n",
       "      <td>brown</td>\n",
       "      <td>brown</td>\n",
       "      <td>light</td>\n",
       "      <td>Serenno</td>\n",
       "      <td>102BBY</td>\n",
       "      <td>19BBY</td>\n",
       "      <td>yes_jedi</td>\n",
       "      <td>human</td>\n",
       "      <td>lightsaber</td>\n",
       "    </tr>\n",
       "    <tr>\n",
       "      <th>13</th>\n",
       "      <td>Chewbacca</td>\n",
       "      <td>male</td>\n",
       "      <td>2.28</td>\n",
       "      <td>112.0</td>\n",
       "      <td>blue</td>\n",
       "      <td>brown</td>\n",
       "      <td>NaN</td>\n",
       "      <td>Kashyyyk</td>\n",
       "      <td>200BBY</td>\n",
       "      <td>25ABY</td>\n",
       "      <td>no_jedi</td>\n",
       "      <td>wookiee</td>\n",
       "      <td>bowcaster</td>\n",
       "    </tr>\n",
       "    <tr>\n",
       "      <th>14</th>\n",
       "      <td>Jabba</td>\n",
       "      <td>male</td>\n",
       "      <td>3.90</td>\n",
       "      <td>NaN</td>\n",
       "      <td>yellow</td>\n",
       "      <td>none</td>\n",
       "      <td>tan-green</td>\n",
       "      <td>Tatooine</td>\n",
       "      <td>unk_born</td>\n",
       "      <td>4ABY</td>\n",
       "      <td>no_jedi</td>\n",
       "      <td>hutt</td>\n",
       "      <td>unarmed</td>\n",
       "    </tr>\n",
       "    <tr>\n",
       "      <th>15</th>\n",
       "      <td>Lando Calrissian</td>\n",
       "      <td>male</td>\n",
       "      <td>1.78</td>\n",
       "      <td>79.0</td>\n",
       "      <td>brown</td>\n",
       "      <td>blank</td>\n",
       "      <td>dark</td>\n",
       "      <td>Socorro</td>\n",
       "      <td>31BBY</td>\n",
       "      <td>unk_died</td>\n",
       "      <td>no_jedi</td>\n",
       "      <td>human</td>\n",
       "      <td>blaster</td>\n",
       "    </tr>\n",
       "    <tr>\n",
       "      <th>16</th>\n",
       "      <td>Boba Fett</td>\n",
       "      <td>male</td>\n",
       "      <td>1.83</td>\n",
       "      <td>78.0</td>\n",
       "      <td>brown</td>\n",
       "      <td>black</td>\n",
       "      <td>brown</td>\n",
       "      <td>Kamino</td>\n",
       "      <td>31.5BBY</td>\n",
       "      <td>unk_died</td>\n",
       "      <td>no_jedi</td>\n",
       "      <td>human</td>\n",
       "      <td>blaster</td>\n",
       "    </tr>\n",
       "    <tr>\n",
       "      <th>17</th>\n",
       "      <td>Jango Fett</td>\n",
       "      <td>male</td>\n",
       "      <td>1.83</td>\n",
       "      <td>79.0</td>\n",
       "      <td>brown</td>\n",
       "      <td>black</td>\n",
       "      <td>brown</td>\n",
       "      <td>ConcordDawn</td>\n",
       "      <td>66BBY</td>\n",
       "      <td>22BBY</td>\n",
       "      <td>no_jedi</td>\n",
       "      <td>human</td>\n",
       "      <td>blaster</td>\n",
       "    </tr>\n",
       "    <tr>\n",
       "      <th>18</th>\n",
       "      <td>Grievous</td>\n",
       "      <td>male</td>\n",
       "      <td>2.16</td>\n",
       "      <td>159.0</td>\n",
       "      <td>gold</td>\n",
       "      <td>black</td>\n",
       "      <td>orange</td>\n",
       "      <td>Kalee</td>\n",
       "      <td>unk_born</td>\n",
       "      <td>19BBY</td>\n",
       "      <td>no_jedi</td>\n",
       "      <td>kaleesh</td>\n",
       "      <td>slugthrower</td>\n",
       "    </tr>\n",
       "    <tr>\n",
       "      <th>19</th>\n",
       "      <td>Chief Chirpa</td>\n",
       "      <td>male</td>\n",
       "      <td>1.00</td>\n",
       "      <td>50.0</td>\n",
       "      <td>black</td>\n",
       "      <td>gray</td>\n",
       "      <td>brown</td>\n",
       "      <td>Endor</td>\n",
       "      <td>unk_born</td>\n",
       "      <td>4ABY</td>\n",
       "      <td>no_jedi</td>\n",
       "      <td>ewok</td>\n",
       "      <td>spear</td>\n",
       "    </tr>\n",
       "  </tbody>\n",
       "</table>\n",
       "</div>"
      ],
      "text/plain": [
       "                name  gender  height  weight  eyecolor haircolor  skincolor  \\\n",
       "0   Anakin Skywalker    male    1.88    84.0      blue     blond       fair   \n",
       "1      Padme Amidala  female    1.65    45.0     brown     brown      light   \n",
       "2     Luke Skywalker    male    1.72    77.0      blue     blond       fair   \n",
       "3        Leia Organa  female    1.50    49.0     brown     brown      light   \n",
       "4       Qui-Gon Jinn    male    1.93    88.5      blue     brown      light   \n",
       "5     Obi-Wan Kenobi    male    1.82    77.0  bluegray    auburn       fair   \n",
       "6           Han Solo    male    1.80    80.0     brown     brown      light   \n",
       "7    Sheev Palpatine    male    1.73    75.0      blue       red       pale   \n",
       "8              R2-D2    male    0.96    32.0       NaN       NaN        NaN   \n",
       "9              C-3PO    male    1.67    75.0       NaN       NaN        NaN   \n",
       "10              Yoda    male    0.66    17.0     brown     brown      green   \n",
       "11        Darth Maul    male    1.75    80.0    yellow      none        red   \n",
       "12             Dooku    male    1.93    86.0     brown     brown      light   \n",
       "13         Chewbacca    male    2.28   112.0      blue     brown        NaN   \n",
       "14             Jabba    male    3.90     NaN    yellow      none  tan-green   \n",
       "15  Lando Calrissian    male    1.78    79.0     brown     blank       dark   \n",
       "16         Boba Fett    male    1.83    78.0     brown     black      brown   \n",
       "17        Jango Fett    male    1.83    79.0     brown     black      brown   \n",
       "18          Grievous    male    2.16   159.0      gold     black     orange   \n",
       "19      Chief Chirpa    male    1.00    50.0     black      gray      brown   \n",
       "\n",
       "       homeland      born      died      jedi      species           weapon  \n",
       "0      Tatooine   41.9BBY      4ABY  yes_jedi        human       lightsaber  \n",
       "1         Naboo     46BBY     19BBY   no_jedi        human          unarmed  \n",
       "2      Tatooine     19BBY  unk_died  yes_jedi        human       lightsaber  \n",
       "3      Alderaan     19BBY  unk_died   no_jedi        human          blaster  \n",
       "4    unk_planet     92BBY     32BBY  yes_jedi        human       lightsaber  \n",
       "5       Stewjon     57BBY      0BBY  yes_jedi        human       lightsaber  \n",
       "6      Corellia     29BBY  unk_died   no_jedi        human          blaster  \n",
       "7         Naboo     82BBY     10ABY   no_jedi        human  force-lightning  \n",
       "8         Naboo     33BBY  unk_died   no_jedi        droid          unarmed  \n",
       "9      Tatooine    112BBY      3ABY   no_jedi        droid          unarmed  \n",
       "10   unk_planet    896BBY      4ABY  yes_jedi         yoda       lightsaber  \n",
       "11     Dathomir     54BBY  unk_died   no_jedi  dathomirian       lightsaber  \n",
       "12      Serenno    102BBY     19BBY  yes_jedi        human       lightsaber  \n",
       "13     Kashyyyk    200BBY     25ABY   no_jedi      wookiee        bowcaster  \n",
       "14     Tatooine  unk_born      4ABY   no_jedi         hutt          unarmed  \n",
       "15      Socorro     31BBY  unk_died   no_jedi        human          blaster  \n",
       "16       Kamino   31.5BBY  unk_died   no_jedi        human          blaster  \n",
       "17  ConcordDawn     66BBY     22BBY   no_jedi        human          blaster  \n",
       "18        Kalee  unk_born     19BBY   no_jedi      kaleesh      slugthrower  \n",
       "19        Endor  unk_born      4ABY   no_jedi         ewok            spear  "
      ]
     },
     "execution_count": 9,
     "metadata": {},
     "output_type": "execute_result"
    }
   ],
   "source": [
    "sw"
   ]
  },
  {
   "cell_type": "markdown",
   "metadata": {},
   "source": [
    "Podemos agrupar a los personajes de acuerdo a sus caracteristicas como genero, especie y arma"
   ]
  },
  {
   "cell_type": "code",
   "execution_count": 10,
   "metadata": {},
   "outputs": [
    {
     "data": {
      "text/plain": [
       "gender\n",
       "female     2\n",
       "male      18\n",
       "dtype: int64"
      ]
     },
     "execution_count": 10,
     "metadata": {},
     "output_type": "execute_result"
    }
   ],
   "source": [
    "sw.groupby(\"gender\").size()"
   ]
  },
  {
   "cell_type": "code",
   "execution_count": 11,
   "metadata": {},
   "outputs": [
    {
     "data": {
      "text/plain": [
       "species\n",
       "dathomirian     1\n",
       "droid           2\n",
       "ewok            1\n",
       "human          12\n",
       "hutt            1\n",
       "kaleesh         1\n",
       "wookiee         1\n",
       "yoda            1\n",
       "dtype: int64"
      ]
     },
     "execution_count": 11,
     "metadata": {},
     "output_type": "execute_result"
    }
   ],
   "source": [
    "sw.groupby(\"species\").size()"
   ]
  },
  {
   "cell_type": "code",
   "execution_count": 12,
   "metadata": {},
   "outputs": [
    {
     "data": {
      "text/plain": [
       "weapon\n",
       "blaster            5\n",
       "bowcaster          1\n",
       "force-lightning    1\n",
       "lightsaber         7\n",
       "slugthrower        1\n",
       "spear              1\n",
       "unarmed            4\n",
       "dtype: int64"
      ]
     },
     "execution_count": 12,
     "metadata": {},
     "output_type": "execute_result"
    }
   ],
   "source": [
    "sw.groupby(\"weapon\").size()"
   ]
  },
  {
   "cell_type": "markdown",
   "metadata": {},
   "source": [
    "En todos estos ejemplos, hemos optado por devolver el tamaño de cada grupo. Para ello se agrego el metodo `size()` al finalizar la llamada al metodo `groupby`\n",
    "\n",
    "Una vez que tenemos los datos agrupados podemos aplicar otro tipo de operaciones, tales como sumas, promedios, varianzas, entre otras. Los resultados dependera del tipo de variable con el que se cuente."
   ]
  },
  {
   "cell_type": "code",
   "execution_count": null,
   "metadata": {},
   "outputs": [],
   "source": []
  }
 ],
 "metadata": {
  "kernelspec": {
   "display_name": "Python 3",
   "language": "python",
   "name": "python3"
  },
  "language_info": {
   "codemirror_mode": {
    "name": "ipython",
    "version": 3
   },
   "file_extension": ".py",
   "mimetype": "text/x-python",
   "name": "python",
   "nbconvert_exporter": "python",
   "pygments_lexer": "ipython3",
   "version": "3.12.2"
  }
 },
 "nbformat": 4,
 "nbformat_minor": 2
}
